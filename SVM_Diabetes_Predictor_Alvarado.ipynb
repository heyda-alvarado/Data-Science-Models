{
  "nbformat": 4,
  "nbformat_minor": 0,
  "metadata": {
    "colab": {
      "provenance": []
    },
    "kernelspec": {
      "name": "python3",
      "display_name": "Python 3"
    },
    "language_info": {
      "name": "python"
    }
  },
  "cells": [
    {
      "cell_type": "markdown",
      "source": [
        "# **Predicting Diabetes in Pima Indian Females: An SVM Approach**"
      ],
      "metadata": {
        "id": "4MC_MBRBXv1a"
      }
    },
    {
      "cell_type": "markdown",
      "source": [
        "## **Objective:**\n",
        "\n",
        "The objective of this analysis is to utilize the Support Vector Machine (SVM) algorithm to predict diabetes in Pima Indian females based on the provided dataset. Specifically, we aim to answer the question of whether we can accurately classify individuals as either positive or negative for diabetes using the available numeric-valued attributes. By employing SVM modeling, our goal is to develop a predictive model that can effectively identify potential cases of diabetes in this population."
      ],
      "metadata": {
        "id": "P1xYlYZ1YZfd"
      }
    },
    {
      "cell_type": "markdown",
      "source": [
        "## **Libraries**:\n",
        "\n",
        " pandas, scikit-learn, numPy, matplolib"
      ],
      "metadata": {
        "id": "SN31zF04YjIa"
      }
    },
    {
      "cell_type": "code",
      "source": [
        "# Import required libraries\n",
        "import pandas as pd\n",
        "import numpy as np\n",
        "import sklearn\n",
        "from sklearn.neural_network import MLPClassifier\n",
        "import matplotlib.pyplot as plt\n",
        "import seaborn as sns\n"
      ],
      "metadata": {
        "id": "5PL9UJ3CyTUZ"
      },
      "execution_count": null,
      "outputs": []
    },
    {
      "cell_type": "markdown",
      "source": [
        "## **Dataset:**\n",
        "\n",
        "The dataset used in this analysis, the \"Pima Indians Diabetes Database,\" was sourced from the National Institute of Diabetes and Digestive and Kidney Diseases. The dataset consists of 768 instances of Pima Indian females, residing near Phoenix, Arizona, USA. The data collection method and timeframe are not specified.  Pima Indians Diabetes Database: https://www.openml.org/d/37\n",
        "\n"
      ],
      "metadata": {
        "id": "lK5wSz6MZSGC"
      }
    },
    {
      "cell_type": "code",
      "execution_count": null,
      "metadata": {
        "colab": {
          "base_uri": "https://localhost:8080/"
        },
        "id": "C3k87uznumiv",
        "outputId": "e8a5a02e-7293-4316-c682-fda587884fb5"
      },
      "outputs": [
        {
          "output_type": "stream",
          "name": "stderr",
          "text": [
            "/usr/local/lib/python3.10/dist-packages/sklearn/datasets/_openml.py:301: UserWarning: Multiple active versions of the dataset matching the name diabetes exist. Versions may be fundamentally different, returning version 1.\n",
            "  warn(\n",
            "/usr/local/lib/python3.10/dist-packages/sklearn/datasets/_openml.py:968: FutureWarning: The default value of `parser` will change from `'liac-arff'` to `'auto'` in 1.4. You can set `parser='auto'` to silence this warning. Therefore, an `ImportError` will be raised from 1.4 if the dataset is dense and pandas is not installed. Note that the pandas parser may return different data types. See the Notes Section in fetch_openml's API doc for details.\n",
            "  warn(\n"
          ]
        }
      ],
      "source": [
        "# Load diabetes dataset from OpenML\n",
        "from sklearn.datasets import fetch_openml\n",
        "diabetes = fetch_openml(name='diabetes',  as_frame=True)\n"
      ]
    },
    {
      "cell_type": "code",
      "source": [
        "# Details about the dataset\n",
        "print(diabetes.details)"
      ],
      "metadata": {
        "colab": {
          "base_uri": "https://localhost:8080/"
        },
        "id": "UJaFnZSucnzh",
        "outputId": "35d73665-b41b-4963-fb84-720a9f6dbe31"
      },
      "execution_count": null,
      "outputs": [
        {
          "output_type": "stream",
          "name": "stdout",
          "text": [
            "{'id': '37', 'name': 'diabetes', 'version': '1', 'description_version': '1', 'format': 'ARFF', 'creator': 'Peter D. Turney', 'collection_date': '1995-03-01', 'upload_date': '2014-04-06T23:22:13', 'language': 'English', 'licence': 'Public', 'url': 'https://api.openml.org/data/v1/download/37/diabetes.arff', 'parquet_url': 'http://openml1.win.tue.nl/dataset37/dataset_37.pq', 'file_id': '37', 'default_target_attribute': 'class', 'version_label': '1', 'citation': 'https://www.jair.org/index.php/jair/article/view/10129', 'tag': ['mythbusting_1', 'OpenML-CC18', 'OpenML100', 'study_1', 'study_123', 'study_135', 'study_14', 'study_15', 'study_20', 'study_29', 'study_30', 'study_34', 'study_37', 'study_41', 'study_52', 'study_7', 'study_70', 'study_98', 'study_99', 'uci'], 'visibility': 'public', 'original_data_url': 'https://archive.ics.uci.edu/ml/datasets/pima+indians+diabetes', 'paper_url': 'https://www.jair.org/index.php/jair/article/view/10129', 'minio_url': 'http://openml1.win.tue.nl/dataset37/dataset_37.pq', 'status': 'active', 'processing_date': '2020-11-20 18:49:43', 'md5_checksum': '3cbaa3e54586aa88cf6aacb4033e4470'}\n"
          ]
        }
      ]
    },
    {
      "cell_type": "markdown",
      "source": [
        "## **Exploratory Data Anaslyis (EDA):**\n",
        "\n",
        "Performing exploratory analysis on this dataset would involve examining the distributions and relationships of these key variables to gain insights into their characteristics and potential impact on diabetes prediction."
      ],
      "metadata": {
        "id": "vNqWBKq8auSS"
      }
    },
    {
      "cell_type": "code",
      "source": [
        "# Display columns (variables)\n",
        "list(diabetes.frame.columns)"
      ],
      "metadata": {
        "colab": {
          "base_uri": "https://localhost:8080/"
        },
        "id": "UKTRbc_VeqFJ",
        "outputId": "987d19bb-55bc-4d1f-a77a-e68a44075d7b"
      },
      "execution_count": null,
      "outputs": [
        {
          "output_type": "execute_result",
          "data": {
            "text/plain": [
              "['preg', 'plas', 'pres', 'skin', 'insu', 'mass', 'pedi', 'age', 'class']"
            ]
          },
          "metadata": {},
          "execution_count": 488
        }
      ]
    },
    {
      "cell_type": "code",
      "source": [
        "# Display the first five rows of the dataset\n",
        "print(diabetes.frame.head())"
      ],
      "metadata": {
        "colab": {
          "base_uri": "https://localhost:8080/"
        },
        "id": "I0l-9f2z5KtL",
        "outputId": "f7f24024-13a5-4ea8-faed-c570ead0d2f4"
      },
      "execution_count": null,
      "outputs": [
        {
          "output_type": "stream",
          "name": "stdout",
          "text": [
            "   preg   plas  pres  skin   insu  mass   pedi   age            class\n",
            "0   6.0  148.0  72.0  35.0    0.0  33.6  0.627  50.0  tested_positive\n",
            "1   1.0   85.0  66.0  29.0    0.0  26.6  0.351  31.0  tested_negative\n",
            "2   8.0  183.0  64.0   0.0    0.0  23.3  0.672  32.0  tested_positive\n",
            "3   1.0   89.0  66.0  23.0   94.0  28.1  0.167  21.0  tested_negative\n",
            "4   0.0  137.0  40.0  35.0  168.0  43.1  2.288  33.0  tested_positive\n"
          ]
        }
      ]
    },
    {
      "cell_type": "code",
      "source": [
        "# Dataset columns and variable type\n",
        "print(diabetes.frame.dtypes)"
      ],
      "metadata": {
        "colab": {
          "base_uri": "https://localhost:8080/"
        },
        "id": "bMv70dqBA1kc",
        "outputId": "7fc0a03b-8ad1-424b-9181-e508787a02eb"
      },
      "execution_count": null,
      "outputs": [
        {
          "output_type": "stream",
          "name": "stdout",
          "text": [
            "preg      float64\n",
            "plas      float64\n",
            "pres      float64\n",
            "skin      float64\n",
            "insu      float64\n",
            "mass      float64\n",
            "pedi      float64\n",
            "age       float64\n",
            "class    category\n",
            "dtype: object\n"
          ]
        }
      ]
    },
    {
      "cell_type": "code",
      "source": [
        "# How many rows and columns does the dataset has?\n",
        "print(diabetes.frame.shape)"
      ],
      "metadata": {
        "colab": {
          "base_uri": "https://localhost:8080/"
        },
        "id": "8j7CqdTgb5gG",
        "outputId": "260b3b80-5c93-470e-e9c5-ba3157e169c5"
      },
      "execution_count": null,
      "outputs": [
        {
          "output_type": "stream",
          "name": "stdout",
          "text": [
            "(768, 9)\n"
          ]
        }
      ]
    },
    {
      "cell_type": "code",
      "source": [
        "# Number of instances for 'tested_positive' & 'tested_negative'\n",
        "print(diabetes.frame.groupby(\"class\").size())"
      ],
      "metadata": {
        "colab": {
          "base_uri": "https://localhost:8080/"
        },
        "id": "QEoZ94vn-_-I",
        "outputId": "2d8bede4-6248-41eb-a9e3-d08fd60083ba"
      },
      "execution_count": null,
      "outputs": [
        {
          "output_type": "stream",
          "name": "stdout",
          "text": [
            "class\n",
            "tested_negative    500\n",
            "tested_positive    268\n",
            "dtype: int64\n"
          ]
        }
      ]
    },
    {
      "cell_type": "code",
      "source": [
        "# Calculating proportion percentage for tested_negative\n",
        "\n",
        "proportion_tested_negative = 500 / 768\n",
        "percentage_tested_negative = proportion_tested_negative * 100\n",
        "\n",
        "print(f\"Proportion of tested_negative: {proportion_tested_negative:.2f}\")\n",
        "print(f\"Percentage of tested_negative: {percentage_tested_negative:.2f}%\")\n"
      ],
      "metadata": {
        "colab": {
          "base_uri": "https://localhost:8080/"
        },
        "id": "XkigXbDwg7ya",
        "outputId": "28b4b889-72a1-477d-88c0-0d54fedbdb9f"
      },
      "execution_count": null,
      "outputs": [
        {
          "output_type": "stream",
          "name": "stdout",
          "text": [
            "Proportion of tested_negative: 0.65\n",
            "Percentage of tested_negative: 65.10%\n"
          ]
        }
      ]
    },
    {
      "cell_type": "code",
      "source": [
        "# Calculating proportion percentage for tested positive\n",
        "\n",
        "proportion_tested_positive = 268 / 768\n",
        "percentage_tested_positive = proportion_tested_positive * 100\n",
        "\n",
        "print(f\"Proportion of tested_positive: {proportion_tested_positive:.2f}\")\n",
        "print(f\"Percentage of tested_positive: {percentage_tested_positive:.2f}%\")\n"
      ],
      "metadata": {
        "colab": {
          "base_uri": "https://localhost:8080/"
        },
        "id": "PKzQ3FpZhoNe",
        "outputId": "7eccc63f-f577-4c0b-8d55-b3cfc3dbd45f"
      },
      "execution_count": null,
      "outputs": [
        {
          "output_type": "stream",
          "name": "stdout",
          "text": [
            "Proportion of tested_positive: 0.35\n",
            "Percentage of tested_positive: 34.90%\n"
          ]
        }
      ]
    },
    {
      "cell_type": "code",
      "source": [
        "# Descriptive statistics on the dataset\n",
        "print(diabetes.frame.describe())"
      ],
      "metadata": {
        "colab": {
          "base_uri": "https://localhost:8080/"
        },
        "id": "vHYpsBSWd8bD",
        "outputId": "fa122c33-e5ce-4fa5-be89-456903bc1695"
      },
      "execution_count": null,
      "outputs": [
        {
          "output_type": "stream",
          "name": "stdout",
          "text": [
            "             preg        plas        pres        skin        insu        mass  \\\n",
            "count  768.000000  768.000000  768.000000  768.000000  768.000000  768.000000   \n",
            "mean     3.845052  120.894531   69.105469   20.536458   79.799479   31.992578   \n",
            "std      3.369578   31.972618   19.355807   15.952218  115.244002    7.884160   \n",
            "min      0.000000    0.000000    0.000000    0.000000    0.000000    0.000000   \n",
            "25%      1.000000   99.000000   62.000000    0.000000    0.000000   27.300000   \n",
            "50%      3.000000  117.000000   72.000000   23.000000   30.500000   32.000000   \n",
            "75%      6.000000  140.250000   80.000000   32.000000  127.250000   36.600000   \n",
            "max     17.000000  199.000000  122.000000   99.000000  846.000000   67.100000   \n",
            "\n",
            "             pedi         age  \n",
            "count  768.000000  768.000000  \n",
            "mean     0.471876   33.240885  \n",
            "std      0.331329   11.760232  \n",
            "min      0.078000   21.000000  \n",
            "25%      0.243750   24.000000  \n",
            "50%      0.372500   29.000000  \n",
            "75%      0.626250   41.000000  \n",
            "max      2.420000   81.000000  \n"
          ]
        }
      ]
    },
    {
      "cell_type": "code",
      "source": [
        "# Plotting a histogram for 'Class' variable\n",
        "plt.hist(diabetes.frame['class'], bins=2, edgecolor='black')\n",
        "\n",
        "# Adding labels and title\n",
        "plt.xlabel('Class')\n",
        "plt.ylabel('Frequency')\n",
        "plt.title('Histogram of Class Variable')\n",
        "\n",
        "# Displaying the histogram\n",
        "plt.show()"
      ],
      "metadata": {
        "colab": {
          "base_uri": "https://localhost:8080/",
          "height": 472
        },
        "id": "yFCxUkF1jDDd",
        "outputId": "3965cfa3-c1fc-4d8d-ed04-6dc1ffd4b437"
      },
      "execution_count": null,
      "outputs": [
        {
          "output_type": "display_data",
          "data": {
            "text/plain": [
              "<Figure size 640x480 with 1 Axes>"
            ],
            "image/png": "[encoded data removed]"
          },
          "metadata": {}
        }
      ]
    },
    {
      "cell_type": "markdown",
      "source": [
        "# **EDA Observations:**\n",
        "\n",
        " The proportion of 'tested_positive' is 34.9% and the proportion of 'tested_negative' is 65.1%, suggests an imbalance in the data distribution. In this case, the data is skewed towards the 'tested_negative' category, as it represents a significantly higher proportion compared to the 'tested_positive' category.\n",
        "\n",
        "When dealing with imbalanced data, it can have implications on the performance and accuracy of certain machine learning models. Models trained on imbalanced data might have a bias towards the majority class (in this case, 'tested_negative') and struggle to accurately predict the minority class ('tested_positive')."
      ],
      "metadata": {
        "id": "NUmDV54NlRDx"
      }
    },
    {
      "cell_type": "markdown",
      "source": [
        "# **Preprocessing:**\n",
        "\n",
        "Data Preparation:\n",
        "1. Imported the model from sklearn to split the data into training and testing sets.\n",
        "2. Identified the target column and predictors.\n",
        "3. Standardized the predictors by dividing them by their maximum value.\n",
        "4. Checked and handled missing values by dropping rows containing NA values.\n",
        "5. Defined the X and y features, representing the input features and output variable respectively.\n",
        "\n",
        "Categorical Data Handling:\n",
        "1. Utilized LabelEncoder from sklearn.preprocessing to encode the categorical output variable 'class' into numerical values.\n",
        "\n",
        "Data Split:\n",
        "1. Split the data into training and test sets using the train_test_split function from sklearn.model_selection.\n",
        "\n",
        "These steps ensured that the data was properly prepared for further analysis and model training.\n"
      ],
      "metadata": {
        "id": "bkSw-B29nkHy"
      }
    },
    {
      "cell_type": "code",
      "source": [
        "# Import model to divide data into training and testing sets\n",
        "from sklearn.model_selection import train_test_split"
      ],
      "metadata": {
        "id": "UsS6eIONwzmR"
      },
      "execution_count": null,
      "outputs": []
    },
    {
      "cell_type": "code",
      "source": [
        "# Define the target column 'class'\n",
        "target_column = ['class']\n",
        "\n",
        "# Derive the list of predictor column id's\n",
        "predictors = list(set(list(diabetes.frame.columns))-set(target_column))\n",
        "\n",
        "# Standardize the predictors by dividing by the maximum\n",
        "diabetes.frame[predictors] = diabetes.frame[predictors]/diabetes.frame[predictors].max()\n",
        "\n",
        "# Provide summary statistics for the dataframe\n",
        "diabetes.frame.describe().transpose()"
      ],
      "metadata": {
        "colab": {
          "base_uri": "https://localhost:8080/",
          "height": 300
        },
        "id": "T93oyVmhvRfm",
        "outputId": "ac340316-0c76-47df-d6f7-69a0281e758d"
      },
      "execution_count": null,
      "outputs": [
        {
          "output_type": "execute_result",
          "data": {
            "text/plain": [
              "      count      mean       std       min       25%       50%       75%  max\n",
              "preg  768.0  0.226180  0.198210  0.000000  0.058824  0.176471  0.352941  1.0\n",
              "plas  768.0  0.607510  0.160666  0.000000  0.497487  0.587940  0.704774  1.0\n",
              "pres  768.0  0.566438  0.158654  0.000000  0.508197  0.590164  0.655738  1.0\n",
              "skin  768.0  0.207439  0.161134  0.000000  0.000000  0.232323  0.323232  1.0\n",
              "insu  768.0  0.094326  0.136222  0.000000  0.000000  0.036052  0.150414  1.0\n",
              "mass  768.0  0.476790  0.117499  0.000000  0.406855  0.476900  0.545455  1.0\n",
              "pedi  768.0  0.194990  0.136913  0.032231  0.100723  0.153926  0.258781  1.0\n",
              "age   768.0  0.410381  0.145188  0.259259  0.296296  0.358025  0.506173  1.0"
            ],
            "text/html": [
              "\n",
              "  <div id=\"df-5188e810-12dc-4e06-b50f-2cd55a5f0df9\">\n",
              "    <div class=\"colab-df-container\">\n",
              "      <div>\n",
              "<style scoped>\n",
              "    .dataframe tbody tr th:only-of-type {\n",
              "        vertical-align: middle;\n",
              "    }\n",
              "\n",
              "    .dataframe tbody tr th {\n",
              "        vertical-align: top;\n",
              "    }\n",
              "\n",
              "    .dataframe thead th {\n",
              "        text-align: right;\n",
              "    }\n",
              "</style>\n",
              "<table border=\"1\" class=\"dataframe\">\n",
              "  <thead>\n",
              "    <tr style=\"text-align: right;\">\n",
              "      <th></th>\n",
              "      <th>count</th>\n",
              "      <th>mean</th>\n",
              "      <th>std</th>\n",
              "      <th>min</th>\n",
              "      <th>25%</th>\n",
              "      <th>50%</th>\n",
              "      <th>75%</th>\n",
              "      <th>max</th>\n",
              "    </tr>\n",
              "  </thead>\n",
              "  <tbody>\n",
              "    <tr>\n",
              "      <th>preg</th>\n",
              "      <td>768.0</td>\n",
              "      <td>0.226180</td>\n",
              "      <td>0.198210</td>\n",
              "      <td>0.000000</td>\n",
              "      <td>0.058824</td>\n",
              "      <td>0.176471</td>\n",
              "      <td>0.352941</td>\n",
              "      <td>1.0</td>\n",
              "    </tr>\n",
              "    <tr>\n",
              "      <th>plas</th>\n",
              "      <td>768.0</td>\n",
              "      <td>0.607510</td>\n",
              "      <td>0.160666</td>\n",
              "      <td>0.000000</td>\n",
              "      <td>0.497487</td>\n",
              "      <td>0.587940</td>\n",
              "      <td>0.704774</td>\n",
              "      <td>1.0</td>\n",
              "    </tr>\n",
              "    <tr>\n",
              "      <th>pres</th>\n",
              "      <td>768.0</td>\n",
              "      <td>0.566438</td>\n",
              "      <td>0.158654</td>\n",
              "      <td>0.000000</td>\n",
              "      <td>0.508197</td>\n",
              "      <td>0.590164</td>\n",
              "      <td>0.655738</td>\n",
              "      <td>1.0</td>\n",
              "    </tr>\n",
              "    <tr>\n",
              "      <th>skin</th>\n",
              "      <td>768.0</td>\n",
              "      <td>0.207439</td>\n",
              "      <td>0.161134</td>\n",
              "      <td>0.000000</td>\n",
              "      <td>0.000000</td>\n",
              "      <td>0.232323</td>\n",
              "      <td>0.323232</td>\n",
              "      <td>1.0</td>\n",
              "    </tr>\n",
              "    <tr>\n",
              "      <th>insu</th>\n",
              "      <td>768.0</td>\n",
              "      <td>0.094326</td>\n",
              "      <td>0.136222</td>\n",
              "      <td>0.000000</td>\n",
              "      <td>0.000000</td>\n",
              "      <td>0.036052</td>\n",
              "      <td>0.150414</td>\n",
              "      <td>1.0</td>\n",
              "    </tr>\n",
              "    <tr>\n",
              "      <th>mass</th>\n",
              "      <td>768.0</td>\n",
              "      <td>0.476790</td>\n",
              "      <td>0.117499</td>\n",
              "      <td>0.000000</td>\n",
              "      <td>0.406855</td>\n",
              "      <td>0.476900</td>\n",
              "      <td>0.545455</td>\n",
              "      <td>1.0</td>\n",
              "    </tr>\n",
              "    <tr>\n",
              "      <th>pedi</th>\n",
              "      <td>768.0</td>\n",
              "      <td>0.194990</td>\n",
              "      <td>0.136913</td>\n",
              "      <td>0.032231</td>\n",
              "      <td>0.100723</td>\n",
              "      <td>0.153926</td>\n",
              "      <td>0.258781</td>\n",
              "      <td>1.0</td>\n",
              "    </tr>\n",
              "    <tr>\n",
              "      <th>age</th>\n",
              "      <td>768.0</td>\n",
              "      <td>0.410381</td>\n",
              "      <td>0.145188</td>\n",
              "      <td>0.259259</td>\n",
              "      <td>0.296296</td>\n",
              "      <td>0.358025</td>\n",
              "      <td>0.506173</td>\n",
              "      <td>1.0</td>\n",
              "    </tr>\n",
              "  </tbody>\n",
              "</table>\n",
              "</div>\n",
              "      <button class=\"colab-df-convert\" onclick=\"convertToInteractive('df-5188e810-12dc-4e06-b50f-2cd55a5f0df9')\"\n",
              "              title=\"Convert this dataframe to an interactive table.\"\n",
              "              style=\"display:none;\">\n",
              "        \n",
              "  <svg xmlns=\"http://www.w3.org/2000/svg\" height=\"24px\"viewBox=\"0 0 24 24\"\n",
              "       width=\"24px\">\n",
              "    <path d=\"M0 0h24v24H0V0z\" fill=\"none\"/>\n",
              "    <path d=\"M18.56 5.44l.94 2.06.94-2.06 2.06-.94-2.06-.94-.94-2.06-.94 2.06-2.06.94zm-11 1L8.5 8.5l.94-2.06 2.06-.94-2.06-.94L8.5 2.5l-.94 2.06-2.06.94zm10 10l.94 2.06.94-2.06 2.06-.94-2.06-.94-.94-2.06-.94 2.06-2.06.94z\"/><path d=\"M17.41 7.96l-1.37-1.37c-.4-.4-.92-.59-1.43-.59-.52 0-1.04.2-1.43.59L10.3 9.45l-7.72 7.72c-.78.78-.78 2.05 0 2.83L4 21.41c.39.39.9.59 1.41.59.51 0 1.02-.2 1.41-.59l7.78-7.78 2.81-2.81c.8-.78.8-2.07 0-2.86zM5.41 20L4 18.59l7.72-7.72 1.47 1.35L5.41 20z\"/>\n",
              "  </svg>\n",
              "      </button>\n",
              "      \n",
              "  <style>\n",
              "    .colab-df-container {\n",
              "      display:flex;\n",
              "      flex-wrap:wrap;\n",
              "      gap: 12px;\n",
              "    }\n",
              "\n",
              "    .colab-df-convert {\n",
              "      background-color: #E8F0FE;\n",
              "      border: none;\n",
              "      border-radius: 50%;\n",
              "      cursor: pointer;\n",
              "      display: none;\n",
              "      fill: #1967D2;\n",
              "      height: 32px;\n",
              "      padding: 0 0 0 0;\n",
              "      width: 32px;\n",
              "    }\n",
              "\n",
              "    .colab-df-convert:hover {\n",
              "      background-color: #E2EBFA;\n",
              "      box-shadow: 0px 1px 2px rgba(60, 64, 67, 0.3), 0px 1px 3px 1px rgba(60, 64, 67, 0.15);\n",
              "      fill: #174EA6;\n",
              "    }\n",
              "\n",
              "    [theme=dark] .colab-df-convert {\n",
              "      background-color: #3B4455;\n",
              "      fill: #D2E3FC;\n",
              "    }\n",
              "\n",
              "    [theme=dark] .colab-df-convert:hover {\n",
              "      background-color: #434B5C;\n",
              "      box-shadow: 0px 1px 3px 1px rgba(0, 0, 0, 0.15);\n",
              "      filter: drop-shadow(0px 1px 2px rgba(0, 0, 0, 0.3));\n",
              "      fill: #FFFFFF;\n",
              "    }\n",
              "  </style>\n",
              "\n",
              "      <script>\n",
              "        const buttonEl =\n",
              "          document.querySelector('#df-5188e810-12dc-4e06-b50f-2cd55a5f0df9 button.colab-df-convert');\n",
              "        buttonEl.style.display =\n",
              "          google.colab.kernel.accessAllowed ? 'block' : 'none';\n",
              "\n",
              "        async function convertToInteractive(key) {\n",
              "          const element = document.querySelector('#df-5188e810-12dc-4e06-b50f-2cd55a5f0df9');\n",
              "          const dataTable =\n",
              "            await google.colab.kernel.invokeFunction('convertToInteractive',\n",
              "                                                     [key], {});\n",
              "          if (!dataTable) return;\n",
              "\n",
              "          const docLinkHtml = 'Like what you see? Visit the ' +\n",
              "            '<a target=\"_blank\" href=https://colab.research.google.com/notebooks/data_table.ipynb>data table notebook</a>'\n",
              "            + ' to learn more about interactive tables.';\n",
              "          element.innerHTML = '';\n",
              "          dataTable['output_type'] = 'display_data';\n",
              "          await google.colab.output.renderOutput(dataTable, element);\n",
              "          const docLink = document.createElement('div');\n",
              "          docLink.innerHTML = docLinkHtml;\n",
              "          element.appendChild(docLink);\n",
              "        }\n",
              "      </script>\n",
              "    </div>\n",
              "  </div>\n",
              "  "
            ]
          },
          "metadata": {},
          "execution_count": 498
        }
      ]
    },
    {
      "cell_type": "code",
      "source": [
        "# Check  if there are missing values\n",
        "print(diabetes.frame.isnull().any().any())"
      ],
      "metadata": {
        "colab": {
          "base_uri": "https://localhost:8080/"
        },
        "id": "5eQJhGxb_odX",
        "outputId": "45b9473c-31fa-4c8b-8d0e-698cd73ee651"
      },
      "execution_count": null,
      "outputs": [
        {
          "output_type": "stream",
          "name": "stdout",
          "text": [
            "False\n"
          ]
        }
      ]
    },
    {
      "cell_type": "code",
      "source": [
        "# Get rid of any rown with NA's\n",
        "diabetes.frame = diabetes.frame.dropna()"
      ],
      "metadata": {
        "id": "eJwT9zy_yQ2u"
      },
      "execution_count": null,
      "outputs": []
    },
    {
      "cell_type": "code",
      "source": [
        "# Defining X and y features\n",
        "\n",
        "# The input data\n",
        "X = diabetes.frame[predictors].values\n",
        "\n",
        "# The output data\n",
        "y = diabetes.frame[target_column].values"
      ],
      "metadata": {
        "id": "JthwfvaMyqbA"
      },
      "execution_count": null,
      "outputs": []
    },
    {
      "cell_type": "code",
      "source": [
        "# Transforming categorical variable \"class\" to a continuous variable\n",
        "from sklearn import preprocessing\n",
        "\n",
        "# Create an instance of LabelEncoder\n",
        "le = preprocessing.LabelEncoder()\n",
        "\n",
        "# Fit and transform the target variable\n",
        "y_encoded = le.fit_transform(y)\n",
        "\n",
        "# Print the transformed values\n",
        "print(y_encoded[0:5])\n"
      ],
      "metadata": {
        "colab": {
          "base_uri": "https://localhost:8080/"
        },
        "id": "9_EKvZ-HH0gK",
        "outputId": "250387fd-a3a4-43db-f0d8-efdc31eb99f9"
      },
      "execution_count": null,
      "outputs": [
        {
          "output_type": "stream",
          "name": "stdout",
          "text": [
            "[1 0 1 0 1]\n"
          ]
        },
        {
          "output_type": "stream",
          "name": "stderr",
          "text": [
            "/usr/local/lib/python3.10/dist-packages/sklearn/preprocessing/_label.py:116: DataConversionWarning: A column-vector y was passed when a 1d array was expected. Please change the shape of y to (n_samples, ), for example using ravel().\n",
            "  y = column_or_1d(y, warn=True)\n"
          ]
        }
      ]
    },
    {
      "cell_type": "code",
      "source": [
        "# Divide data into training and test sets\n",
        "X_train, X_test, y_train, y_test = train_test_split(X, y, test_size=0.30)\n",
        "print(X_train.shape); print(X_test.shape)"
      ],
      "metadata": {
        "colab": {
          "base_uri": "https://localhost:8080/"
        },
        "id": "j9caHzxL0oEJ",
        "outputId": "36d13067-dcde-40c0-953a-8a658e58e395"
      },
      "execution_count": null,
      "outputs": [
        {
          "output_type": "stream",
          "name": "stdout",
          "text": [
            "(537, 8)\n",
            "(231, 8)\n"
          ]
        }
      ]
    },
    {
      "cell_type": "markdown",
      "source": [
        "# **Model Fitting:**\n",
        "\n",
        "\n",
        "The SVM model fitting process involves several key steps for parameter tuning. Initially, the necessary libraries are imported, including the svm module from the sklearn library. Next, the SVM model is created using svm.SVC(), where the desired parameters such as the kernel type and decision function shape are specified. The model is then fitted on the training data, allowing it to learn the optimal hyperplane that separates the data points based on their class labels.\n",
        "\n",
        "Once the model is trained, predictions are made on both the training set and the test set using the predict() function. This enables the assessment of the model's performance on unseen data. To further improve the model's accuracy, different values for the kernel parameter are experimented with. The 'linear', 'rbf' (Radial Basis Function), and 'poly' (polynomial) kernels are tested to evaluate their impact on the model's performance.\n",
        "\n",
        "Additionally, various decision function shapes, such as 'ovo' (one-vs-one) and 'ovr' (one-vs-rest), are explored to observe their influence on the model's behavior. By fine-tuning these parameters, the aim is to optimize the SVM model's performance and accuracy, ensuring it effectively classifies the given dataset."
      ],
      "metadata": {
        "id": "DjUeNNOa4flQ"
      }
    },
    {
      "cell_type": "code",
      "source": [
        "# Import model from library\n",
        "\n",
        "from sklearn import svm\n",
        "\n",
        "\n",
        "svm_model = svm.SVC(decision_function_shape='ovr')\n",
        "svm_model.fit(X_train, y_train)\n",
        "\n",
        "# Predict the training set\n",
        "predict_train = svm_model.predict(X_train)\n",
        "\n",
        "# Predict the test set\n",
        "predict_test = svm_model.predict(X_test)"
      ],
      "metadata": {
        "colab": {
          "base_uri": "https://localhost:8080/"
        },
        "id": "CqI3_gFZ5Q2D",
        "outputId": "7d2c3181-888f-43c4-ac99-9d4927d61bef"
      },
      "execution_count": null,
      "outputs": [
        {
          "output_type": "stream",
          "name": "stderr",
          "text": [
            "/usr/local/lib/python3.10/dist-packages/sklearn/utils/validation.py:1143: DataConversionWarning: A column-vector y was passed when a 1d array was expected. Please change the shape of y to (n_samples, ), for example using ravel().\n",
            "  y = column_or_1d(y, warn=True)\n"
          ]
        }
      ]
    },
    {
      "cell_type": "markdown",
      "source": [
        "# **Model Evaluation**\n",
        "\n",
        "\n",
        "The metrics used to quantitatively evaluate the performance of the fitted model include confusion matrices and other accuracy statistics such as precision, recall, f1-score, and support.\n",
        "\n",
        "* **Confusion Matrices:**  The confusion matrix provides a tabular representation of the model's performance by showing the counts of true positive (TP), false positive (FP), true negative (TN), and false negative (FN) predictions. It helps in understanding the classification performance of the model.\n",
        "\n",
        "*  **Precision:**\n",
        "Precision is a metric that indicates the proportion of correctly predicted positive instances (true positives) out of all instances predicted as positive (true positives + false positives). A higher precision value indicates a lower rate of false positive predictions.\n",
        "\n",
        "*  **Recall:**\n",
        "Recall, also known as sensitivity or true positive rate, is the proportion of correctly predicted positive instances (true positives) out of all actual positive instances (true positives + false negatives). A higher recall value indicates a lower rate of false negative predictions.\n",
        "\n",
        "* **F1-Score:**\n",
        "The F1-score is the harmonic mean of precision and recall. It provides a single metric that balances both precision and recall. The F1-score is useful when there is an uneven distribution of classes or when both precision and recall need to be considered simultaneously.\n",
        "\n",
        "* **Support:**\n",
        "Support refers to the number of instances of each class in the actual data. It provides insight into the distribution of the classes and helps interpret the precision, recall, and F1-score metrics in the context of the dataset.\n"
      ],
      "metadata": {
        "id": "qfRQb5zA5pQA"
      }
    },
    {
      "cell_type": "code",
      "source": [
        "from sklearn.metrics import classification_report,confusion_matrix\n",
        "\n",
        "print('Training accuracy')\n",
        "\n",
        "# Calculate the confusion matrix for the training set\n",
        "cm_train = confusion_matrix(y_train, predict_train)\n",
        "\n",
        "# Create a heatmap plot of the confusion matrix for training set\n",
        "plt.figure(figsize=(8, 6))\n",
        "sns.heatmap(cm_train, annot=True, fmt='d', cmap='Blues')\n",
        "\n",
        "# Add labels, title, and axis ticks for training set\n",
        "plt.xlabel('Predicted')\n",
        "plt.ylabel('Actual')\n",
        "plt.title('Confusion Matrix - Training Set')\n",
        "plt.xticks([0.5, 1.5], ['Negative', 'Positive'])\n",
        "plt.yticks([0.5, 1.5], ['Negative', 'Positive'])\n",
        "\n",
        "# Show the plot for training set\n",
        "plt.show()\n",
        "\n",
        "# Confusion matrix report  for the training set\n",
        "print(confusion_matrix(y_train,predict_train))\n",
        "\n",
        "# Accuracy statistics report for the training set\n",
        "print(classification_report(y_train,predict_train))\n"
      ],
      "metadata": {
        "colab": {
          "base_uri": "https://localhost:8080/",
          "height": 772
        },
        "id": "ovQW6pwz54lX",
        "outputId": "5ad70711-83f9-4a61-982a-6b5c26d90484"
      },
      "execution_count": null,
      "outputs": [
        {
          "output_type": "stream",
          "name": "stdout",
          "text": [
            "Training accuracy\n"
          ]
        },
        {
          "output_type": "display_data",
          "data": {
            "text/plain": [
              "<Figure size 800x600 with 2 Axes>"
            ],
            "image/png": "[encoded data removed]"
          },
          "metadata": {}
        },
        {
          "output_type": "stream",
          "name": "stdout",
          "text": [
            "[[307  37]\n",
            " [ 77 116]]\n",
            "                 precision    recall  f1-score   support\n",
            "\n",
            "tested_negative       0.80      0.89      0.84       344\n",
            "tested_positive       0.76      0.60      0.67       193\n",
            "\n",
            "       accuracy                           0.79       537\n",
            "      macro avg       0.78      0.75      0.76       537\n",
            "   weighted avg       0.78      0.79      0.78       537\n",
            "\n"
          ]
        }
      ]
    },
    {
      "cell_type": "code",
      "source": [
        "print('Testing accuracy')\n",
        "\n",
        "# Calculate the confusion matrix for the test set\n",
        "cm_test = confusion_matrix(y_test, predict_test)\n",
        "\n",
        "# Create a heatmap plot of the confusion matrix for test set\n",
        "plt.figure(figsize=(8, 6))\n",
        "sns.heatmap(cm_test, annot=True, fmt='d', cmap='Blues')\n",
        "\n",
        "# Add labels, title, and axis ticks for test set\n",
        "plt.xlabel('Predicted')\n",
        "plt.ylabel('Actual')\n",
        "plt.title('Confusion Matrix - Test Set')\n",
        "plt.xticks([0.5, 1.5], ['Negative', 'Positive'])\n",
        "plt.yticks([0.5, 1.5], ['Negative', 'Positive'])\n",
        "\n",
        "# Show the plot for test set\n",
        "plt.show()\n",
        "\n",
        "# Confusion matrix report for the test set\n",
        "print(confusion_matrix(y_test,predict_test))\n",
        "\n",
        "# Accuracy statistics report for the test set\n",
        "print(classification_report(y_test,predict_test))"
      ],
      "metadata": {
        "colab": {
          "base_uri": "https://localhost:8080/",
          "height": 772
        },
        "id": "a2AH37ev9EhZ",
        "outputId": "e3d878ae-2996-4a98-bf1f-f06073f22a51"
      },
      "execution_count": null,
      "outputs": [
        {
          "output_type": "stream",
          "name": "stdout",
          "text": [
            "Testing accuracy\n"
          ]
        },
        {
          "output_type": "display_data",
          "data": {
            "text/plain": [
              "<Figure size 800x600 with 2 Axes>"
            ],
            "image/png": "[encoded data removed]"
          },
          "metadata": {}
        },
        {
          "output_type": "stream",
          "name": "stdout",
          "text": [
            "[[140  16]\n",
            " [ 28  47]]\n",
            "                 precision    recall  f1-score   support\n",
            "\n",
            "tested_negative       0.83      0.90      0.86       156\n",
            "tested_positive       0.75      0.63      0.68        75\n",
            "\n",
            "       accuracy                           0.81       231\n",
            "      macro avg       0.79      0.76      0.77       231\n",
            "   weighted avg       0.80      0.81      0.80       231\n",
            "\n"
          ]
        }
      ]
    }
  ]
}