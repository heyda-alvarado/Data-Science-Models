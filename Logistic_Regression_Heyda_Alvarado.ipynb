{
  "nbformat": 4,
  "nbformat_minor": 0,
  "metadata": {
    "colab": {
      "provenance": []
    },
    "kernelspec": {
      "name": "python3",
      "display_name": "Python 3"
    },
    "language_info": {
      "name": "python"
    }
  },
  "cells": [
    {
      "cell_type": "markdown",
      "source": [
        "#**Logistic Regression: Water Quality**"
      ],
      "metadata": {
        "id": "_hY41rbCHhhd"
      }
    },
    {
      "cell_type": "markdown",
      "source": [
        "####The objective of the analysis is to predict whether the water is safe for consumption or not, using a logistic regression model. Additionally, the analysis aims to identify which factors have a significant impact on water quality and thus influence the drinkability of water. By identifying these factors, the logistic regression model can provide insights into which variables are most important to consider when assessing water quality and making decisions about whether it is safe to drink."
      ],
      "metadata": {
        "id": "kjbtYsAvHTip"
      }
    },
    {
      "cell_type": "markdown",
      "source": [
        "####For this analysis we will be using the following libraries: *Pandas, Scikit-Learn, Numpy and Matplotlib*"
      ],
      "metadata": {
        "id": "uAUfi6xlH5aL"
      }
    },
    {
      "cell_type": "code",
      "execution_count": 250,
      "metadata": {
        "id": "HC_2EFGGZ_2a"
      },
      "outputs": [],
      "source": [
        "#Importing libraries for logical regression model \n",
        "import pandas as pd\n",
        "import pylab as pl\n",
        "import numpy as np\n",
        "import scipy.optimize as opt\n",
        "from sklearn import preprocessing\n",
        "%matplotlib inline \n",
        "import matplotlib.pyplot as plt"
      ]
    },
    {
      "cell_type": "markdown",
      "source": [
        "#**Data Set**:\n",
        "####This is a set of data created from imaginary data of water quality in an urban environment. For educational purposes only. \n",
        "\n",
        "####**Variables**: *aluminium,ammonia, arsenic, barium, cadmium, chloramine, chromium, copper, flouride, bacteria, viruses, lead, nitrates, nitrites, mercury, perchlorate, radium, selenium, silver, uranium, is_safe (class attribute {0 - not safe, 1 - safe})*\n",
        "\n"
      ],
      "metadata": {
        "id": "XTBz1SFUI-d6"
      }
    },
    {
      "cell_type": "markdown",
      "source": [
        "#**Exploratory Analysis:**"
      ],
      "metadata": {
        "id": "gxrQYhm4OAvv"
      }
    },
    {
      "cell_type": "code",
      "source": [
        "#Load the data from a CSV file\n",
        "\n",
        "wq_df = pd.read_csv(\"waterQuality1.csv\")\n",
        "wq_df.head()"
      ],
      "metadata": {
        "colab": {
          "base_uri": "https://localhost:8080/",
          "height": 236
        },
        "id": "PuqWasWOaXc1",
        "outputId": "bc673309-589d-4719-8775-646500507b82"
      },
      "execution_count": 251,
      "outputs": [
        {
          "output_type": "execute_result",
          "data": {
            "text/plain": [
              "   aluminium  ammonia  arsenic  barium  cadmium  chloramine  chromium  copper  \\\n",
              "0       1.65     9.08     0.04    2.85    0.007        0.35      0.83    0.17   \n",
              "1       2.32    21.16     0.01    3.31    0.002        5.28      0.68    0.66   \n",
              "2       1.01    14.02     0.04    0.58    0.008        4.24      0.53    0.02   \n",
              "3       1.36    11.33     0.04    2.96    0.001        7.23      0.03    1.66   \n",
              "4       0.92    24.33     0.03    0.20    0.006        2.67      0.69    0.57   \n",
              "\n",
              "   flouride  bacteria  ...   lead  nitrates  nitrites  mercury  perchlorate  \\\n",
              "0      0.05      0.20  ...  0.054     16.08      1.13    0.007        37.75   \n",
              "1      0.90      0.65  ...  0.100      2.01      1.93    0.003        32.26   \n",
              "2      0.99      0.05  ...  0.078     14.16      1.11    0.006        50.28   \n",
              "3      1.08      0.71  ...  0.016      1.41      1.29    0.004         9.12   \n",
              "4      0.61      0.13  ...  0.117      6.74      1.11    0.003        16.90   \n",
              "\n",
              "   radium  selenium  silver  uranium  is_safe  \n",
              "0    6.78      0.08    0.34     0.02        1  \n",
              "1    3.21      0.08    0.27     0.05        1  \n",
              "2    7.07      0.07    0.44     0.01        0  \n",
              "3    1.72      0.02    0.45     0.05        1  \n",
              "4    2.41      0.02    0.06     0.02        1  \n",
              "\n",
              "[5 rows x 21 columns]"
            ],
            "text/html": [
              "\n",
              "  <div id=\"df-433e6c6c-f36a-4b2c-8b3b-76527208e93b\">\n",
              "    <div class=\"colab-df-container\">\n",
              "      <div>\n",
              "<style scoped>\n",
              "    .dataframe tbody tr th:only-of-type {\n",
              "        vertical-align: middle;\n",
              "    }\n",
              "\n",
              "    .dataframe tbody tr th {\n",
              "        vertical-align: top;\n",
              "    }\n",
              "\n",
              "    .dataframe thead th {\n",
              "        text-align: right;\n",
              "    }\n",
              "</style>\n",
              "<table border=\"1\" class=\"dataframe\">\n",
              "  <thead>\n",
              "    <tr style=\"text-align: right;\">\n",
              "      <th></th>\n",
              "      <th>aluminium</th>\n",
              "      <th>ammonia</th>\n",
              "      <th>arsenic</th>\n",
              "      <th>barium</th>\n",
              "      <th>cadmium</th>\n",
              "      <th>chloramine</th>\n",
              "      <th>chromium</th>\n",
              "      <th>copper</th>\n",
              "      <th>flouride</th>\n",
              "      <th>bacteria</th>\n",
              "      <th>...</th>\n",
              "      <th>lead</th>\n",
              "      <th>nitrates</th>\n",
              "      <th>nitrites</th>\n",
              "      <th>mercury</th>\n",
              "      <th>perchlorate</th>\n",
              "      <th>radium</th>\n",
              "      <th>selenium</th>\n",
              "      <th>silver</th>\n",
              "      <th>uranium</th>\n",
              "      <th>is_safe</th>\n",
              "    </tr>\n",
              "  </thead>\n",
              "  <tbody>\n",
              "    <tr>\n",
              "      <th>0</th>\n",
              "      <td>1.65</td>\n",
              "      <td>9.08</td>\n",
              "      <td>0.04</td>\n",
              "      <td>2.85</td>\n",
              "      <td>0.007</td>\n",
              "      <td>0.35</td>\n",
              "      <td>0.83</td>\n",
              "      <td>0.17</td>\n",
              "      <td>0.05</td>\n",
              "      <td>0.20</td>\n",
              "      <td>...</td>\n",
              "      <td>0.054</td>\n",
              "      <td>16.08</td>\n",
              "      <td>1.13</td>\n",
              "      <td>0.007</td>\n",
              "      <td>37.75</td>\n",
              "      <td>6.78</td>\n",
              "      <td>0.08</td>\n",
              "      <td>0.34</td>\n",
              "      <td>0.02</td>\n",
              "      <td>1</td>\n",
              "    </tr>\n",
              "    <tr>\n",
              "      <th>1</th>\n",
              "      <td>2.32</td>\n",
              "      <td>21.16</td>\n",
              "      <td>0.01</td>\n",
              "      <td>3.31</td>\n",
              "      <td>0.002</td>\n",
              "      <td>5.28</td>\n",
              "      <td>0.68</td>\n",
              "      <td>0.66</td>\n",
              "      <td>0.90</td>\n",
              "      <td>0.65</td>\n",
              "      <td>...</td>\n",
              "      <td>0.100</td>\n",
              "      <td>2.01</td>\n",
              "      <td>1.93</td>\n",
              "      <td>0.003</td>\n",
              "      <td>32.26</td>\n",
              "      <td>3.21</td>\n",
              "      <td>0.08</td>\n",
              "      <td>0.27</td>\n",
              "      <td>0.05</td>\n",
              "      <td>1</td>\n",
              "    </tr>\n",
              "    <tr>\n",
              "      <th>2</th>\n",
              "      <td>1.01</td>\n",
              "      <td>14.02</td>\n",
              "      <td>0.04</td>\n",
              "      <td>0.58</td>\n",
              "      <td>0.008</td>\n",
              "      <td>4.24</td>\n",
              "      <td>0.53</td>\n",
              "      <td>0.02</td>\n",
              "      <td>0.99</td>\n",
              "      <td>0.05</td>\n",
              "      <td>...</td>\n",
              "      <td>0.078</td>\n",
              "      <td>14.16</td>\n",
              "      <td>1.11</td>\n",
              "      <td>0.006</td>\n",
              "      <td>50.28</td>\n",
              "      <td>7.07</td>\n",
              "      <td>0.07</td>\n",
              "      <td>0.44</td>\n",
              "      <td>0.01</td>\n",
              "      <td>0</td>\n",
              "    </tr>\n",
              "    <tr>\n",
              "      <th>3</th>\n",
              "      <td>1.36</td>\n",
              "      <td>11.33</td>\n",
              "      <td>0.04</td>\n",
              "      <td>2.96</td>\n",
              "      <td>0.001</td>\n",
              "      <td>7.23</td>\n",
              "      <td>0.03</td>\n",
              "      <td>1.66</td>\n",
              "      <td>1.08</td>\n",
              "      <td>0.71</td>\n",
              "      <td>...</td>\n",
              "      <td>0.016</td>\n",
              "      <td>1.41</td>\n",
              "      <td>1.29</td>\n",
              "      <td>0.004</td>\n",
              "      <td>9.12</td>\n",
              "      <td>1.72</td>\n",
              "      <td>0.02</td>\n",
              "      <td>0.45</td>\n",
              "      <td>0.05</td>\n",
              "      <td>1</td>\n",
              "    </tr>\n",
              "    <tr>\n",
              "      <th>4</th>\n",
              "      <td>0.92</td>\n",
              "      <td>24.33</td>\n",
              "      <td>0.03</td>\n",
              "      <td>0.20</td>\n",
              "      <td>0.006</td>\n",
              "      <td>2.67</td>\n",
              "      <td>0.69</td>\n",
              "      <td>0.57</td>\n",
              "      <td>0.61</td>\n",
              "      <td>0.13</td>\n",
              "      <td>...</td>\n",
              "      <td>0.117</td>\n",
              "      <td>6.74</td>\n",
              "      <td>1.11</td>\n",
              "      <td>0.003</td>\n",
              "      <td>16.90</td>\n",
              "      <td>2.41</td>\n",
              "      <td>0.02</td>\n",
              "      <td>0.06</td>\n",
              "      <td>0.02</td>\n",
              "      <td>1</td>\n",
              "    </tr>\n",
              "  </tbody>\n",
              "</table>\n",
              "<p>5 rows × 21 columns</p>\n",
              "</div>\n",
              "      <button class=\"colab-df-convert\" onclick=\"convertToInteractive('df-433e6c6c-f36a-4b2c-8b3b-76527208e93b')\"\n",
              "              title=\"Convert this dataframe to an interactive table.\"\n",
              "              style=\"display:none;\">\n",
              "        \n",
              "  <svg xmlns=\"http://www.w3.org/2000/svg\" height=\"24px\"viewBox=\"0 0 24 24\"\n",
              "       width=\"24px\">\n",
              "    <path d=\"M0 0h24v24H0V0z\" fill=\"none\"/>\n",
              "    <path d=\"M18.56 5.44l.94 2.06.94-2.06 2.06-.94-2.06-.94-.94-2.06-.94 2.06-2.06.94zm-11 1L8.5 8.5l.94-2.06 2.06-.94-2.06-.94L8.5 2.5l-.94 2.06-2.06.94zm10 10l.94 2.06.94-2.06 2.06-.94-2.06-.94-.94-2.06-.94 2.06-2.06.94z\"/><path d=\"M17.41 7.96l-1.37-1.37c-.4-.4-.92-.59-1.43-.59-.52 0-1.04.2-1.43.59L10.3 9.45l-7.72 7.72c-.78.78-.78 2.05 0 2.83L4 21.41c.39.39.9.59 1.41.59.51 0 1.02-.2 1.41-.59l7.78-7.78 2.81-2.81c.8-.78.8-2.07 0-2.86zM5.41 20L4 18.59l7.72-7.72 1.47 1.35L5.41 20z\"/>\n",
              "  </svg>\n",
              "      </button>\n",
              "      \n",
              "  <style>\n",
              "    .colab-df-container {\n",
              "      display:flex;\n",
              "      flex-wrap:wrap;\n",
              "      gap: 12px;\n",
              "    }\n",
              "\n",
              "    .colab-df-convert {\n",
              "      background-color: #E8F0FE;\n",
              "      border: none;\n",
              "      border-radius: 50%;\n",
              "      cursor: pointer;\n",
              "      display: none;\n",
              "      fill: #1967D2;\n",
              "      height: 32px;\n",
              "      padding: 0 0 0 0;\n",
              "      width: 32px;\n",
              "    }\n",
              "\n",
              "    .colab-df-convert:hover {\n",
              "      background-color: #E2EBFA;\n",
              "      box-shadow: 0px 1px 2px rgba(60, 64, 67, 0.3), 0px 1px 3px 1px rgba(60, 64, 67, 0.15);\n",
              "      fill: #174EA6;\n",
              "    }\n",
              "\n",
              "    [theme=dark] .colab-df-convert {\n",
              "      background-color: #3B4455;\n",
              "      fill: #D2E3FC;\n",
              "    }\n",
              "\n",
              "    [theme=dark] .colab-df-convert:hover {\n",
              "      background-color: #434B5C;\n",
              "      box-shadow: 0px 1px 3px 1px rgba(0, 0, 0, 0.15);\n",
              "      filter: drop-shadow(0px 1px 2px rgba(0, 0, 0, 0.3));\n",
              "      fill: #FFFFFF;\n",
              "    }\n",
              "  </style>\n",
              "\n",
              "      <script>\n",
              "        const buttonEl =\n",
              "          document.querySelector('#df-433e6c6c-f36a-4b2c-8b3b-76527208e93b button.colab-df-convert');\n",
              "        buttonEl.style.display =\n",
              "          google.colab.kernel.accessAllowed ? 'block' : 'none';\n",
              "\n",
              "        async function convertToInteractive(key) {\n",
              "          const element = document.querySelector('#df-433e6c6c-f36a-4b2c-8b3b-76527208e93b');\n",
              "          const dataTable =\n",
              "            await google.colab.kernel.invokeFunction('convertToInteractive',\n",
              "                                                     [key], {});\n",
              "          if (!dataTable) return;\n",
              "\n",
              "          const docLinkHtml = 'Like what you see? Visit the ' +\n",
              "            '<a target=\"_blank\" href=https://colab.research.google.com/notebooks/data_table.ipynb>data table notebook</a>'\n",
              "            + ' to learn more about interactive tables.';\n",
              "          element.innerHTML = '';\n",
              "          dataTable['output_type'] = 'display_data';\n",
              "          await google.colab.output.renderOutput(dataTable, element);\n",
              "          const docLink = document.createElement('div');\n",
              "          docLink.innerHTML = docLinkHtml;\n",
              "          element.appendChild(docLink);\n",
              "        }\n",
              "      </script>\n",
              "    </div>\n",
              "  </div>\n",
              "  "
            ]
          },
          "metadata": {},
          "execution_count": 251
        }
      ]
    },
    {
      "cell_type": "code",
      "source": [
        "# Row and columns\n",
        "\n",
        "wq_df.shape"
      ],
      "metadata": {
        "colab": {
          "base_uri": "https://localhost:8080/"
        },
        "id": "CtCPOdBRMJpi",
        "outputId": "5d3fd1f7-57c0-4e1d-9475-3196c7666130"
      },
      "execution_count": 252,
      "outputs": [
        {
          "output_type": "execute_result",
          "data": {
            "text/plain": [
              "(7996, 21)"
            ]
          },
          "metadata": {},
          "execution_count": 252
        }
      ]
    },
    {
      "cell_type": "code",
      "source": [
        "# Getting basic stats on the dataset\n",
        "\n",
        "wq_df.describe()"
      ],
      "metadata": {
        "colab": {
          "base_uri": "https://localhost:8080/",
          "height": 394
        },
        "id": "20iSKEVocKJy",
        "outputId": "40a7e0d0-c8dc-44e3-ad40-f88a2637d29d"
      },
      "execution_count": 253,
      "outputs": [
        {
          "output_type": "execute_result",
          "data": {
            "text/plain": [
              "         aluminium      ammonia      arsenic       barium      cadmium  \\\n",
              "count  7996.000000  7996.000000  7996.000000  7996.000000  7996.000000   \n",
              "mean      0.666396    14.278212     0.161477     1.567928     0.042803   \n",
              "std       1.265323     8.878930     0.252632     1.216227     0.036049   \n",
              "min       0.000000    -0.080000     0.000000     0.000000     0.000000   \n",
              "25%       0.040000     6.577500     0.030000     0.560000     0.008000   \n",
              "50%       0.070000    14.130000     0.050000     1.190000     0.040000   \n",
              "75%       0.280000    22.132500     0.100000     2.482500     0.070000   \n",
              "max       5.050000    29.840000     1.050000     4.940000     0.130000   \n",
              "\n",
              "        chloramine     chromium       copper     flouride     bacteria  ...  \\\n",
              "count  7996.000000  7996.000000  7996.000000  7996.000000  7996.000000  ...   \n",
              "mean      2.177589     0.247300     0.805940     0.771646     0.319714  ...   \n",
              "std       2.567210     0.270663     0.653595     0.435423     0.329497  ...   \n",
              "min       0.000000     0.000000     0.000000     0.000000     0.000000  ...   \n",
              "25%       0.100000     0.050000     0.090000     0.407500     0.000000  ...   \n",
              "50%       0.530000     0.090000     0.750000     0.770000     0.220000  ...   \n",
              "75%       4.240000     0.440000     1.390000     1.160000     0.610000  ...   \n",
              "max       8.680000     0.900000     2.000000     1.500000     1.000000  ...   \n",
              "\n",
              "              lead     nitrates     nitrites      mercury  perchlorate  \\\n",
              "count  7996.000000  7996.000000  7996.000000  7996.000000  7996.000000   \n",
              "mean      0.099431     9.819250     1.329846     0.005193    16.465266   \n",
              "std       0.058169     5.541977     0.573271     0.002967    17.688827   \n",
              "min       0.000000     0.000000     0.000000     0.000000     0.000000   \n",
              "25%       0.048000     5.000000     1.000000     0.003000     2.170000   \n",
              "50%       0.102000     9.930000     1.420000     0.005000     7.745000   \n",
              "75%       0.151000    14.610000     1.760000     0.008000    29.487500   \n",
              "max       0.200000    19.830000     2.930000     0.010000    60.010000   \n",
              "\n",
              "            radium     selenium       silver      uranium      is_safe  \n",
              "count  7996.000000  7996.000000  7996.000000  7996.000000  7996.000000  \n",
              "mean      2.920106     0.049684     0.147811     0.044672     0.114057  \n",
              "std       2.322805     0.028773     0.143569     0.026906     0.317900  \n",
              "min       0.000000     0.000000     0.000000     0.000000     0.000000  \n",
              "25%       0.820000     0.020000     0.040000     0.020000     0.000000  \n",
              "50%       2.410000     0.050000     0.080000     0.050000     0.000000  \n",
              "75%       4.670000     0.070000     0.240000     0.070000     0.000000  \n",
              "max       7.990000     0.100000     0.500000     0.090000     1.000000  \n",
              "\n",
              "[8 rows x 21 columns]"
            ],
            "text/html": [
              "\n",
              "  <div id=\"df-613c0c61-87af-47bb-be49-0f0fba79f499\">\n",
              "    <div class=\"colab-df-container\">\n",
              "      <div>\n",
              "<style scoped>\n",
              "    .dataframe tbody tr th:only-of-type {\n",
              "        vertical-align: middle;\n",
              "    }\n",
              "\n",
              "    .dataframe tbody tr th {\n",
              "        vertical-align: top;\n",
              "    }\n",
              "\n",
              "    .dataframe thead th {\n",
              "        text-align: right;\n",
              "    }\n",
              "</style>\n",
              "<table border=\"1\" class=\"dataframe\">\n",
              "  <thead>\n",
              "    <tr style=\"text-align: right;\">\n",
              "      <th></th>\n",
              "      <th>aluminium</th>\n",
              "      <th>ammonia</th>\n",
              "      <th>arsenic</th>\n",
              "      <th>barium</th>\n",
              "      <th>cadmium</th>\n",
              "      <th>chloramine</th>\n",
              "      <th>chromium</th>\n",
              "      <th>copper</th>\n",
              "      <th>flouride</th>\n",
              "      <th>bacteria</th>\n",
              "      <th>...</th>\n",
              "      <th>lead</th>\n",
              "      <th>nitrates</th>\n",
              "      <th>nitrites</th>\n",
              "      <th>mercury</th>\n",
              "      <th>perchlorate</th>\n",
              "      <th>radium</th>\n",
              "      <th>selenium</th>\n",
              "      <th>silver</th>\n",
              "      <th>uranium</th>\n",
              "      <th>is_safe</th>\n",
              "    </tr>\n",
              "  </thead>\n",
              "  <tbody>\n",
              "    <tr>\n",
              "      <th>count</th>\n",
              "      <td>7996.000000</td>\n",
              "      <td>7996.000000</td>\n",
              "      <td>7996.000000</td>\n",
              "      <td>7996.000000</td>\n",
              "      <td>7996.000000</td>\n",
              "      <td>7996.000000</td>\n",
              "      <td>7996.000000</td>\n",
              "      <td>7996.000000</td>\n",
              "      <td>7996.000000</td>\n",
              "      <td>7996.000000</td>\n",
              "      <td>...</td>\n",
              "      <td>7996.000000</td>\n",
              "      <td>7996.000000</td>\n",
              "      <td>7996.000000</td>\n",
              "      <td>7996.000000</td>\n",
              "      <td>7996.000000</td>\n",
              "      <td>7996.000000</td>\n",
              "      <td>7996.000000</td>\n",
              "      <td>7996.000000</td>\n",
              "      <td>7996.000000</td>\n",
              "      <td>7996.000000</td>\n",
              "    </tr>\n",
              "    <tr>\n",
              "      <th>mean</th>\n",
              "      <td>0.666396</td>\n",
              "      <td>14.278212</td>\n",
              "      <td>0.161477</td>\n",
              "      <td>1.567928</td>\n",
              "      <td>0.042803</td>\n",
              "      <td>2.177589</td>\n",
              "      <td>0.247300</td>\n",
              "      <td>0.805940</td>\n",
              "      <td>0.771646</td>\n",
              "      <td>0.319714</td>\n",
              "      <td>...</td>\n",
              "      <td>0.099431</td>\n",
              "      <td>9.819250</td>\n",
              "      <td>1.329846</td>\n",
              "      <td>0.005193</td>\n",
              "      <td>16.465266</td>\n",
              "      <td>2.920106</td>\n",
              "      <td>0.049684</td>\n",
              "      <td>0.147811</td>\n",
              "      <td>0.044672</td>\n",
              "      <td>0.114057</td>\n",
              "    </tr>\n",
              "    <tr>\n",
              "      <th>std</th>\n",
              "      <td>1.265323</td>\n",
              "      <td>8.878930</td>\n",
              "      <td>0.252632</td>\n",
              "      <td>1.216227</td>\n",
              "      <td>0.036049</td>\n",
              "      <td>2.567210</td>\n",
              "      <td>0.270663</td>\n",
              "      <td>0.653595</td>\n",
              "      <td>0.435423</td>\n",
              "      <td>0.329497</td>\n",
              "      <td>...</td>\n",
              "      <td>0.058169</td>\n",
              "      <td>5.541977</td>\n",
              "      <td>0.573271</td>\n",
              "      <td>0.002967</td>\n",
              "      <td>17.688827</td>\n",
              "      <td>2.322805</td>\n",
              "      <td>0.028773</td>\n",
              "      <td>0.143569</td>\n",
              "      <td>0.026906</td>\n",
              "      <td>0.317900</td>\n",
              "    </tr>\n",
              "    <tr>\n",
              "      <th>min</th>\n",
              "      <td>0.000000</td>\n",
              "      <td>-0.080000</td>\n",
              "      <td>0.000000</td>\n",
              "      <td>0.000000</td>\n",
              "      <td>0.000000</td>\n",
              "      <td>0.000000</td>\n",
              "      <td>0.000000</td>\n",
              "      <td>0.000000</td>\n",
              "      <td>0.000000</td>\n",
              "      <td>0.000000</td>\n",
              "      <td>...</td>\n",
              "      <td>0.000000</td>\n",
              "      <td>0.000000</td>\n",
              "      <td>0.000000</td>\n",
              "      <td>0.000000</td>\n",
              "      <td>0.000000</td>\n",
              "      <td>0.000000</td>\n",
              "      <td>0.000000</td>\n",
              "      <td>0.000000</td>\n",
              "      <td>0.000000</td>\n",
              "      <td>0.000000</td>\n",
              "    </tr>\n",
              "    <tr>\n",
              "      <th>25%</th>\n",
              "      <td>0.040000</td>\n",
              "      <td>6.577500</td>\n",
              "      <td>0.030000</td>\n",
              "      <td>0.560000</td>\n",
              "      <td>0.008000</td>\n",
              "      <td>0.100000</td>\n",
              "      <td>0.050000</td>\n",
              "      <td>0.090000</td>\n",
              "      <td>0.407500</td>\n",
              "      <td>0.000000</td>\n",
              "      <td>...</td>\n",
              "      <td>0.048000</td>\n",
              "      <td>5.000000</td>\n",
              "      <td>1.000000</td>\n",
              "      <td>0.003000</td>\n",
              "      <td>2.170000</td>\n",
              "      <td>0.820000</td>\n",
              "      <td>0.020000</td>\n",
              "      <td>0.040000</td>\n",
              "      <td>0.020000</td>\n",
              "      <td>0.000000</td>\n",
              "    </tr>\n",
              "    <tr>\n",
              "      <th>50%</th>\n",
              "      <td>0.070000</td>\n",
              "      <td>14.130000</td>\n",
              "      <td>0.050000</td>\n",
              "      <td>1.190000</td>\n",
              "      <td>0.040000</td>\n",
              "      <td>0.530000</td>\n",
              "      <td>0.090000</td>\n",
              "      <td>0.750000</td>\n",
              "      <td>0.770000</td>\n",
              "      <td>0.220000</td>\n",
              "      <td>...</td>\n",
              "      <td>0.102000</td>\n",
              "      <td>9.930000</td>\n",
              "      <td>1.420000</td>\n",
              "      <td>0.005000</td>\n",
              "      <td>7.745000</td>\n",
              "      <td>2.410000</td>\n",
              "      <td>0.050000</td>\n",
              "      <td>0.080000</td>\n",
              "      <td>0.050000</td>\n",
              "      <td>0.000000</td>\n",
              "    </tr>\n",
              "    <tr>\n",
              "      <th>75%</th>\n",
              "      <td>0.280000</td>\n",
              "      <td>22.132500</td>\n",
              "      <td>0.100000</td>\n",
              "      <td>2.482500</td>\n",
              "      <td>0.070000</td>\n",
              "      <td>4.240000</td>\n",
              "      <td>0.440000</td>\n",
              "      <td>1.390000</td>\n",
              "      <td>1.160000</td>\n",
              "      <td>0.610000</td>\n",
              "      <td>...</td>\n",
              "      <td>0.151000</td>\n",
              "      <td>14.610000</td>\n",
              "      <td>1.760000</td>\n",
              "      <td>0.008000</td>\n",
              "      <td>29.487500</td>\n",
              "      <td>4.670000</td>\n",
              "      <td>0.070000</td>\n",
              "      <td>0.240000</td>\n",
              "      <td>0.070000</td>\n",
              "      <td>0.000000</td>\n",
              "    </tr>\n",
              "    <tr>\n",
              "      <th>max</th>\n",
              "      <td>5.050000</td>\n",
              "      <td>29.840000</td>\n",
              "      <td>1.050000</td>\n",
              "      <td>4.940000</td>\n",
              "      <td>0.130000</td>\n",
              "      <td>8.680000</td>\n",
              "      <td>0.900000</td>\n",
              "      <td>2.000000</td>\n",
              "      <td>1.500000</td>\n",
              "      <td>1.000000</td>\n",
              "      <td>...</td>\n",
              "      <td>0.200000</td>\n",
              "      <td>19.830000</td>\n",
              "      <td>2.930000</td>\n",
              "      <td>0.010000</td>\n",
              "      <td>60.010000</td>\n",
              "      <td>7.990000</td>\n",
              "      <td>0.100000</td>\n",
              "      <td>0.500000</td>\n",
              "      <td>0.090000</td>\n",
              "      <td>1.000000</td>\n",
              "    </tr>\n",
              "  </tbody>\n",
              "</table>\n",
              "<p>8 rows × 21 columns</p>\n",
              "</div>\n",
              "      <button class=\"colab-df-convert\" onclick=\"convertToInteractive('df-613c0c61-87af-47bb-be49-0f0fba79f499')\"\n",
              "              title=\"Convert this dataframe to an interactive table.\"\n",
              "              style=\"display:none;\">\n",
              "        \n",
              "  <svg xmlns=\"http://www.w3.org/2000/svg\" height=\"24px\"viewBox=\"0 0 24 24\"\n",
              "       width=\"24px\">\n",
              "    <path d=\"M0 0h24v24H0V0z\" fill=\"none\"/>\n",
              "    <path d=\"M18.56 5.44l.94 2.06.94-2.06 2.06-.94-2.06-.94-.94-2.06-.94 2.06-2.06.94zm-11 1L8.5 8.5l.94-2.06 2.06-.94-2.06-.94L8.5 2.5l-.94 2.06-2.06.94zm10 10l.94 2.06.94-2.06 2.06-.94-2.06-.94-.94-2.06-.94 2.06-2.06.94z\"/><path d=\"M17.41 7.96l-1.37-1.37c-.4-.4-.92-.59-1.43-.59-.52 0-1.04.2-1.43.59L10.3 9.45l-7.72 7.72c-.78.78-.78 2.05 0 2.83L4 21.41c.39.39.9.59 1.41.59.51 0 1.02-.2 1.41-.59l7.78-7.78 2.81-2.81c.8-.78.8-2.07 0-2.86zM5.41 20L4 18.59l7.72-7.72 1.47 1.35L5.41 20z\"/>\n",
              "  </svg>\n",
              "      </button>\n",
              "      \n",
              "  <style>\n",
              "    .colab-df-container {\n",
              "      display:flex;\n",
              "      flex-wrap:wrap;\n",
              "      gap: 12px;\n",
              "    }\n",
              "\n",
              "    .colab-df-convert {\n",
              "      background-color: #E8F0FE;\n",
              "      border: none;\n",
              "      border-radius: 50%;\n",
              "      cursor: pointer;\n",
              "      display: none;\n",
              "      fill: #1967D2;\n",
              "      height: 32px;\n",
              "      padding: 0 0 0 0;\n",
              "      width: 32px;\n",
              "    }\n",
              "\n",
              "    .colab-df-convert:hover {\n",
              "      background-color: #E2EBFA;\n",
              "      box-shadow: 0px 1px 2px rgba(60, 64, 67, 0.3), 0px 1px 3px 1px rgba(60, 64, 67, 0.15);\n",
              "      fill: #174EA6;\n",
              "    }\n",
              "\n",
              "    [theme=dark] .colab-df-convert {\n",
              "      background-color: #3B4455;\n",
              "      fill: #D2E3FC;\n",
              "    }\n",
              "\n",
              "    [theme=dark] .colab-df-convert:hover {\n",
              "      background-color: #434B5C;\n",
              "      box-shadow: 0px 1px 3px 1px rgba(0, 0, 0, 0.15);\n",
              "      filter: drop-shadow(0px 1px 2px rgba(0, 0, 0, 0.3));\n",
              "      fill: #FFFFFF;\n",
              "    }\n",
              "  </style>\n",
              "\n",
              "      <script>\n",
              "        const buttonEl =\n",
              "          document.querySelector('#df-613c0c61-87af-47bb-be49-0f0fba79f499 button.colab-df-convert');\n",
              "        buttonEl.style.display =\n",
              "          google.colab.kernel.accessAllowed ? 'block' : 'none';\n",
              "\n",
              "        async function convertToInteractive(key) {\n",
              "          const element = document.querySelector('#df-613c0c61-87af-47bb-be49-0f0fba79f499');\n",
              "          const dataTable =\n",
              "            await google.colab.kernel.invokeFunction('convertToInteractive',\n",
              "                                                     [key], {});\n",
              "          if (!dataTable) return;\n",
              "\n",
              "          const docLinkHtml = 'Like what you see? Visit the ' +\n",
              "            '<a target=\"_blank\" href=https://colab.research.google.com/notebooks/data_table.ipynb>data table notebook</a>'\n",
              "            + ' to learn more about interactive tables.';\n",
              "          element.innerHTML = '';\n",
              "          dataTable['output_type'] = 'display_data';\n",
              "          await google.colab.output.renderOutput(dataTable, element);\n",
              "          const docLink = document.createElement('div');\n",
              "          docLink.innerHTML = docLinkHtml;\n",
              "          element.appendChild(docLink);\n",
              "        }\n",
              "      </script>\n",
              "    </div>\n",
              "  </div>\n",
              "  "
            ]
          },
          "metadata": {},
          "execution_count": 253
        }
      ]
    },
    {
      "cell_type": "code",
      "source": [
        "# Number of instances for is_safe (0 or 1)\n",
        "# 0=FALSE safe 1=TRUE\n",
        "\n",
        "wq_df.groupby(\"is_safe\").size()"
      ],
      "metadata": {
        "colab": {
          "base_uri": "https://localhost:8080/"
        },
        "id": "Fd8uOV7ycaQ0",
        "outputId": "d7251ebf-5fdb-4816-8e9b-7bf81f5a11e7"
      },
      "execution_count": 254,
      "outputs": [
        {
          "output_type": "execute_result",
          "data": {
            "text/plain": [
              "is_safe\n",
              "0    7084\n",
              "1     912\n",
              "dtype: int64"
            ]
          },
          "metadata": {},
          "execution_count": 254
        }
      ]
    },
    {
      "cell_type": "code",
      "source": [
        "# Checking  if there are missing values \n",
        "\n",
        "wq_df.isnull().any().any()"
      ],
      "metadata": {
        "id": "tcZ9Xe4DJz1T",
        "outputId": "3218c6f2-1475-45ea-894f-47db103b6b80",
        "colab": {
          "base_uri": "https://localhost:8080/"
        }
      },
      "execution_count": 255,
      "outputs": [
        {
          "output_type": "execute_result",
          "data": {
            "text/plain": [
              "False"
            ]
          },
          "metadata": {},
          "execution_count": 255
        }
      ]
    },
    {
      "cell_type": "markdown",
      "source": [
        "#**Pre-processing:**"
      ],
      "metadata": {
        "id": "u20tKb8uOYJ2"
      }
    },
    {
      "cell_type": "code",
      "source": [
        "# Selecting the features or independent variables and the dependent variable or target vector\n",
        "# No need to change is_safe to integer\n",
        "\n",
        "wq_df = wq_df[['aluminium', 'ammonia', 'arsenic', 'barium', 'cadmium', 'chloramine', 'chromium', 'copper', 'flouride', 'bacteria', 'viruses', 'lead', 'nitrates', 'nitrites', 'mercury', 'perchlorate', 'radium', 'selenium', 'silver', 'uranium','is_safe' ]]\n",
        "wq_df.head()"
      ],
      "metadata": {
        "colab": {
          "base_uri": "https://localhost:8080/",
          "height": 236
        },
        "id": "E-a7wLaVaamF",
        "outputId": "989b1429-3e35-4139-d9cb-2449d48482ae"
      },
      "execution_count": 256,
      "outputs": [
        {
          "output_type": "execute_result",
          "data": {
            "text/plain": [
              "   aluminium  ammonia  arsenic  barium  cadmium  chloramine  chromium  copper  \\\n",
              "0       1.65     9.08     0.04    2.85    0.007        0.35      0.83    0.17   \n",
              "1       2.32    21.16     0.01    3.31    0.002        5.28      0.68    0.66   \n",
              "2       1.01    14.02     0.04    0.58    0.008        4.24      0.53    0.02   \n",
              "3       1.36    11.33     0.04    2.96    0.001        7.23      0.03    1.66   \n",
              "4       0.92    24.33     0.03    0.20    0.006        2.67      0.69    0.57   \n",
              "\n",
              "   flouride  bacteria  ...   lead  nitrates  nitrites  mercury  perchlorate  \\\n",
              "0      0.05      0.20  ...  0.054     16.08      1.13    0.007        37.75   \n",
              "1      0.90      0.65  ...  0.100      2.01      1.93    0.003        32.26   \n",
              "2      0.99      0.05  ...  0.078     14.16      1.11    0.006        50.28   \n",
              "3      1.08      0.71  ...  0.016      1.41      1.29    0.004         9.12   \n",
              "4      0.61      0.13  ...  0.117      6.74      1.11    0.003        16.90   \n",
              "\n",
              "   radium  selenium  silver  uranium  is_safe  \n",
              "0    6.78      0.08    0.34     0.02        1  \n",
              "1    3.21      0.08    0.27     0.05        1  \n",
              "2    7.07      0.07    0.44     0.01        0  \n",
              "3    1.72      0.02    0.45     0.05        1  \n",
              "4    2.41      0.02    0.06     0.02        1  \n",
              "\n",
              "[5 rows x 21 columns]"
            ],
            "text/html": [
              "\n",
              "  <div id=\"df-14b96557-2a3f-4abc-ae62-e2daa857b7c5\">\n",
              "    <div class=\"colab-df-container\">\n",
              "      <div>\n",
              "<style scoped>\n",
              "    .dataframe tbody tr th:only-of-type {\n",
              "        vertical-align: middle;\n",
              "    }\n",
              "\n",
              "    .dataframe tbody tr th {\n",
              "        vertical-align: top;\n",
              "    }\n",
              "\n",
              "    .dataframe thead th {\n",
              "        text-align: right;\n",
              "    }\n",
              "</style>\n",
              "<table border=\"1\" class=\"dataframe\">\n",
              "  <thead>\n",
              "    <tr style=\"text-align: right;\">\n",
              "      <th></th>\n",
              "      <th>aluminium</th>\n",
              "      <th>ammonia</th>\n",
              "      <th>arsenic</th>\n",
              "      <th>barium</th>\n",
              "      <th>cadmium</th>\n",
              "      <th>chloramine</th>\n",
              "      <th>chromium</th>\n",
              "      <th>copper</th>\n",
              "      <th>flouride</th>\n",
              "      <th>bacteria</th>\n",
              "      <th>...</th>\n",
              "      <th>lead</th>\n",
              "      <th>nitrates</th>\n",
              "      <th>nitrites</th>\n",
              "      <th>mercury</th>\n",
              "      <th>perchlorate</th>\n",
              "      <th>radium</th>\n",
              "      <th>selenium</th>\n",
              "      <th>silver</th>\n",
              "      <th>uranium</th>\n",
              "      <th>is_safe</th>\n",
              "    </tr>\n",
              "  </thead>\n",
              "  <tbody>\n",
              "    <tr>\n",
              "      <th>0</th>\n",
              "      <td>1.65</td>\n",
              "      <td>9.08</td>\n",
              "      <td>0.04</td>\n",
              "      <td>2.85</td>\n",
              "      <td>0.007</td>\n",
              "      <td>0.35</td>\n",
              "      <td>0.83</td>\n",
              "      <td>0.17</td>\n",
              "      <td>0.05</td>\n",
              "      <td>0.20</td>\n",
              "      <td>...</td>\n",
              "      <td>0.054</td>\n",
              "      <td>16.08</td>\n",
              "      <td>1.13</td>\n",
              "      <td>0.007</td>\n",
              "      <td>37.75</td>\n",
              "      <td>6.78</td>\n",
              "      <td>0.08</td>\n",
              "      <td>0.34</td>\n",
              "      <td>0.02</td>\n",
              "      <td>1</td>\n",
              "    </tr>\n",
              "    <tr>\n",
              "      <th>1</th>\n",
              "      <td>2.32</td>\n",
              "      <td>21.16</td>\n",
              "      <td>0.01</td>\n",
              "      <td>3.31</td>\n",
              "      <td>0.002</td>\n",
              "      <td>5.28</td>\n",
              "      <td>0.68</td>\n",
              "      <td>0.66</td>\n",
              "      <td>0.90</td>\n",
              "      <td>0.65</td>\n",
              "      <td>...</td>\n",
              "      <td>0.100</td>\n",
              "      <td>2.01</td>\n",
              "      <td>1.93</td>\n",
              "      <td>0.003</td>\n",
              "      <td>32.26</td>\n",
              "      <td>3.21</td>\n",
              "      <td>0.08</td>\n",
              "      <td>0.27</td>\n",
              "      <td>0.05</td>\n",
              "      <td>1</td>\n",
              "    </tr>\n",
              "    <tr>\n",
              "      <th>2</th>\n",
              "      <td>1.01</td>\n",
              "      <td>14.02</td>\n",
              "      <td>0.04</td>\n",
              "      <td>0.58</td>\n",
              "      <td>0.008</td>\n",
              "      <td>4.24</td>\n",
              "      <td>0.53</td>\n",
              "      <td>0.02</td>\n",
              "      <td>0.99</td>\n",
              "      <td>0.05</td>\n",
              "      <td>...</td>\n",
              "      <td>0.078</td>\n",
              "      <td>14.16</td>\n",
              "      <td>1.11</td>\n",
              "      <td>0.006</td>\n",
              "      <td>50.28</td>\n",
              "      <td>7.07</td>\n",
              "      <td>0.07</td>\n",
              "      <td>0.44</td>\n",
              "      <td>0.01</td>\n",
              "      <td>0</td>\n",
              "    </tr>\n",
              "    <tr>\n",
              "      <th>3</th>\n",
              "      <td>1.36</td>\n",
              "      <td>11.33</td>\n",
              "      <td>0.04</td>\n",
              "      <td>2.96</td>\n",
              "      <td>0.001</td>\n",
              "      <td>7.23</td>\n",
              "      <td>0.03</td>\n",
              "      <td>1.66</td>\n",
              "      <td>1.08</td>\n",
              "      <td>0.71</td>\n",
              "      <td>...</td>\n",
              "      <td>0.016</td>\n",
              "      <td>1.41</td>\n",
              "      <td>1.29</td>\n",
              "      <td>0.004</td>\n",
              "      <td>9.12</td>\n",
              "      <td>1.72</td>\n",
              "      <td>0.02</td>\n",
              "      <td>0.45</td>\n",
              "      <td>0.05</td>\n",
              "      <td>1</td>\n",
              "    </tr>\n",
              "    <tr>\n",
              "      <th>4</th>\n",
              "      <td>0.92</td>\n",
              "      <td>24.33</td>\n",
              "      <td>0.03</td>\n",
              "      <td>0.20</td>\n",
              "      <td>0.006</td>\n",
              "      <td>2.67</td>\n",
              "      <td>0.69</td>\n",
              "      <td>0.57</td>\n",
              "      <td>0.61</td>\n",
              "      <td>0.13</td>\n",
              "      <td>...</td>\n",
              "      <td>0.117</td>\n",
              "      <td>6.74</td>\n",
              "      <td>1.11</td>\n",
              "      <td>0.003</td>\n",
              "      <td>16.90</td>\n",
              "      <td>2.41</td>\n",
              "      <td>0.02</td>\n",
              "      <td>0.06</td>\n",
              "      <td>0.02</td>\n",
              "      <td>1</td>\n",
              "    </tr>\n",
              "  </tbody>\n",
              "</table>\n",
              "<p>5 rows × 21 columns</p>\n",
              "</div>\n",
              "      <button class=\"colab-df-convert\" onclick=\"convertToInteractive('df-14b96557-2a3f-4abc-ae62-e2daa857b7c5')\"\n",
              "              title=\"Convert this dataframe to an interactive table.\"\n",
              "              style=\"display:none;\">\n",
              "        \n",
              "  <svg xmlns=\"http://www.w3.org/2000/svg\" height=\"24px\"viewBox=\"0 0 24 24\"\n",
              "       width=\"24px\">\n",
              "    <path d=\"M0 0h24v24H0V0z\" fill=\"none\"/>\n",
              "    <path d=\"M18.56 5.44l.94 2.06.94-2.06 2.06-.94-2.06-.94-.94-2.06-.94 2.06-2.06.94zm-11 1L8.5 8.5l.94-2.06 2.06-.94-2.06-.94L8.5 2.5l-.94 2.06-2.06.94zm10 10l.94 2.06.94-2.06 2.06-.94-2.06-.94-.94-2.06-.94 2.06-2.06.94z\"/><path d=\"M17.41 7.96l-1.37-1.37c-.4-.4-.92-.59-1.43-.59-.52 0-1.04.2-1.43.59L10.3 9.45l-7.72 7.72c-.78.78-.78 2.05 0 2.83L4 21.41c.39.39.9.59 1.41.59.51 0 1.02-.2 1.41-.59l7.78-7.78 2.81-2.81c.8-.78.8-2.07 0-2.86zM5.41 20L4 18.59l7.72-7.72 1.47 1.35L5.41 20z\"/>\n",
              "  </svg>\n",
              "      </button>\n",
              "      \n",
              "  <style>\n",
              "    .colab-df-container {\n",
              "      display:flex;\n",
              "      flex-wrap:wrap;\n",
              "      gap: 12px;\n",
              "    }\n",
              "\n",
              "    .colab-df-convert {\n",
              "      background-color: #E8F0FE;\n",
              "      border: none;\n",
              "      border-radius: 50%;\n",
              "      cursor: pointer;\n",
              "      display: none;\n",
              "      fill: #1967D2;\n",
              "      height: 32px;\n",
              "      padding: 0 0 0 0;\n",
              "      width: 32px;\n",
              "    }\n",
              "\n",
              "    .colab-df-convert:hover {\n",
              "      background-color: #E2EBFA;\n",
              "      box-shadow: 0px 1px 2px rgba(60, 64, 67, 0.3), 0px 1px 3px 1px rgba(60, 64, 67, 0.15);\n",
              "      fill: #174EA6;\n",
              "    }\n",
              "\n",
              "    [theme=dark] .colab-df-convert {\n",
              "      background-color: #3B4455;\n",
              "      fill: #D2E3FC;\n",
              "    }\n",
              "\n",
              "    [theme=dark] .colab-df-convert:hover {\n",
              "      background-color: #434B5C;\n",
              "      box-shadow: 0px 1px 3px 1px rgba(0, 0, 0, 0.15);\n",
              "      filter: drop-shadow(0px 1px 2px rgba(0, 0, 0, 0.3));\n",
              "      fill: #FFFFFF;\n",
              "    }\n",
              "  </style>\n",
              "\n",
              "      <script>\n",
              "        const buttonEl =\n",
              "          document.querySelector('#df-14b96557-2a3f-4abc-ae62-e2daa857b7c5 button.colab-df-convert');\n",
              "        buttonEl.style.display =\n",
              "          google.colab.kernel.accessAllowed ? 'block' : 'none';\n",
              "\n",
              "        async function convertToInteractive(key) {\n",
              "          const element = document.querySelector('#df-14b96557-2a3f-4abc-ae62-e2daa857b7c5');\n",
              "          const dataTable =\n",
              "            await google.colab.kernel.invokeFunction('convertToInteractive',\n",
              "                                                     [key], {});\n",
              "          if (!dataTable) return;\n",
              "\n",
              "          const docLinkHtml = 'Like what you see? Visit the ' +\n",
              "            '<a target=\"_blank\" href=https://colab.research.google.com/notebooks/data_table.ipynb>data table notebook</a>'\n",
              "            + ' to learn more about interactive tables.';\n",
              "          element.innerHTML = '';\n",
              "          dataTable['output_type'] = 'display_data';\n",
              "          await google.colab.output.renderOutput(dataTable, element);\n",
              "          const docLink = document.createElement('div');\n",
              "          docLink.innerHTML = docLinkHtml;\n",
              "          element.appendChild(docLink);\n",
              "        }\n",
              "      </script>\n",
              "    </div>\n",
              "  </div>\n",
              "  "
            ]
          },
          "metadata": {},
          "execution_count": 256
        }
      ]
    },
    {
      "cell_type": "markdown",
      "source": [
        "## Defining X (independent/features) and Y (dependent/target vector) varibles:"
      ],
      "metadata": {
        "id": "JN06fGrsSTWe"
      }
    },
    {
      "cell_type": "code",
      "source": [
        "X = np.asarray(wq_df[['aluminium', 'ammonia', 'arsenic', 'barium', 'cadmium', 'chloramine', 'chromium', 'copper', 'flouride', 'bacteria', 'viruses', 'lead', 'nitrates', 'nitrites', 'mercury', 'perchlorate', 'radium', 'selenium', 'silver', 'uranium']])\n",
        "X[0:5]"
      ],
      "metadata": {
        "colab": {
          "base_uri": "https://localhost:8080/"
        },
        "id": "xK2whPksawGc",
        "outputId": "261233a0-e859-44b4-8e42-2b80c4f11990"
      },
      "execution_count": 257,
      "outputs": [
        {
          "output_type": "execute_result",
          "data": {
            "text/plain": [
              "array([[1.65e+00, 9.08e+00, 4.00e-02, 2.85e+00, 7.00e-03, 3.50e-01,\n",
              "        8.30e-01, 1.70e-01, 5.00e-02, 2.00e-01, 0.00e+00, 5.40e-02,\n",
              "        1.61e+01, 1.13e+00, 7.00e-03, 3.78e+01, 6.78e+00, 8.00e-02,\n",
              "        3.40e-01, 2.00e-02],\n",
              "       [2.32e+00, 2.12e+01, 1.00e-02, 3.31e+00, 2.00e-03, 5.28e+00,\n",
              "        6.80e-01, 6.60e-01, 9.00e-01, 6.50e-01, 6.50e-01, 1.00e-01,\n",
              "        2.01e+00, 1.93e+00, 3.00e-03, 3.23e+01, 3.21e+00, 8.00e-02,\n",
              "        2.70e-01, 5.00e-02],\n",
              "       [1.01e+00, 1.40e+01, 4.00e-02, 5.80e-01, 8.00e-03, 4.24e+00,\n",
              "        5.30e-01, 2.00e-02, 9.90e-01, 5.00e-02, 3.00e-03, 7.80e-02,\n",
              "        1.42e+01, 1.11e+00, 6.00e-03, 5.03e+01, 7.07e+00, 7.00e-02,\n",
              "        4.40e-01, 1.00e-02],\n",
              "       [1.36e+00, 1.13e+01, 4.00e-02, 2.96e+00, 1.00e-03, 7.23e+00,\n",
              "        3.00e-02, 1.66e+00, 1.08e+00, 7.10e-01, 7.10e-01, 1.60e-02,\n",
              "        1.41e+00, 1.29e+00, 4.00e-03, 9.12e+00, 1.72e+00, 2.00e-02,\n",
              "        4.50e-01, 5.00e-02],\n",
              "       [9.20e-01, 2.43e+01, 3.00e-02, 2.00e-01, 6.00e-03, 2.67e+00,\n",
              "        6.90e-01, 5.70e-01, 6.10e-01, 1.30e-01, 1.00e-03, 1.17e-01,\n",
              "        6.74e+00, 1.11e+00, 3.00e-03, 1.69e+01, 2.41e+00, 2.00e-02,\n",
              "        6.00e-02, 2.00e-02]])"
            ]
          },
          "metadata": {},
          "execution_count": 257
        }
      ]
    },
    {
      "cell_type": "code",
      "source": [
        "y = np.asarray(wq_df['is_safe'])\n",
        "y [0:5]"
      ],
      "metadata": {
        "colab": {
          "base_uri": "https://localhost:8080/"
        },
        "id": "Q-mmn11sayuM",
        "outputId": "bee30da6-2d61-4065-d22c-b4bdf0f35039"
      },
      "execution_count": 258,
      "outputs": [
        {
          "output_type": "execute_result",
          "data": {
            "text/plain": [
              "array([1, 1, 0, 1, 1])"
            ]
          },
          "metadata": {},
          "execution_count": 258
        }
      ]
    },
    {
      "cell_type": "markdown",
      "source": [
        "##Normalizing the dataset:"
      ],
      "metadata": {
        "id": "9gayI9eRT1le"
      }
    },
    {
      "cell_type": "code",
      "source": [
        "from sklearn import preprocessing\n",
        "X = preprocessing.StandardScaler().fit(X).transform(X)\n",
        "X[0:5]"
      ],
      "metadata": {
        "colab": {
          "base_uri": "https://localhost:8080/"
        },
        "id": "_IZD3Dica6OE",
        "outputId": "ee202b06-462a-4392-f21a-7c29684b7979"
      },
      "execution_count": 259,
      "outputs": [
        {
          "output_type": "execute_result",
          "data": {
            "text/plain": [
              "array([[ 0.78, -0.59, -0.48,  1.05, -0.99, -0.71,  2.15, -0.97, -1.66,\n",
              "        -0.36, -0.87, -0.78,  1.13, -0.35,  0.61,  1.2 ,  1.66,  1.05,\n",
              "         1.34, -0.92],\n",
              "       [ 1.31,  0.78, -0.6 ,  1.43, -1.13,  1.21,  1.6 , -0.22,  0.29,\n",
              "         1.  ,  0.85,  0.01, -1.41,  1.05, -0.74,  0.89,  0.12,  1.05,\n",
              "         0.85,  0.2 ],\n",
              "       [ 0.27, -0.03, -0.48, -0.81, -0.97,  0.8 ,  1.04, -1.2 ,  0.5 ,\n",
              "        -0.82, -0.86, -0.37,  0.78, -0.38,  0.27,  1.91,  1.79,  0.71,\n",
              "         2.04, -1.29],\n",
              "       [ 0.55, -0.33, -0.48,  1.14, -1.16,  1.97, -0.8 ,  1.31,  0.71,\n",
              "         1.18,  1.01, -1.43, -1.52, -0.07, -0.4 , -0.42, -0.52, -1.03,\n",
              "         2.1 ,  0.2 ],\n",
              "       [ 0.2 ,  1.13, -0.52, -1.12, -1.02,  0.19,  1.64, -0.36, -0.37,\n",
              "        -0.58, -0.87,  0.3 , -0.56, -0.38, -0.74,  0.02, -0.22, -1.03,\n",
              "        -0.61, -0.92]])"
            ]
          },
          "metadata": {},
          "execution_count": 259
        }
      ]
    },
    {
      "cell_type": "markdown",
      "source": [
        "##Splitting dataset into Test/Train sets:"
      ],
      "metadata": {
        "id": "79ScmiwvUO_b"
      }
    },
    {
      "cell_type": "code",
      "source": [
        "from sklearn.model_selection import train_test_split\n",
        "X_train, X_test, y_train, y_test = train_test_split( X, y, test_size=0.2, random_state=4)\n",
        "print ('Train set:', X_train.shape,  y_train.shape)\n",
        "print ('Test set:', X_test.shape,  y_test.shape)"
      ],
      "metadata": {
        "colab": {
          "base_uri": "https://localhost:8080/"
        },
        "id": "xzmprG2ha8wc",
        "outputId": "9b7ac30a-796c-4add-ea54-a7154ea42232"
      },
      "execution_count": 260,
      "outputs": [
        {
          "output_type": "stream",
          "name": "stdout",
          "text": [
            "Train set: (6396, 20) (6396,)\n",
            "Test set: (1600, 20) (1600,)\n"
          ]
        }
      ]
    },
    {
      "cell_type": "code",
      "source": [
        "from sklearn.linear_model import LogisticRegression\n",
        "\n",
        "from sklearn.metrics import confusion_matrix\n",
        "\n",
        "LR = LogisticRegression(C=0.01, solver='liblinear').fit(X_train,y_train)\n",
        "LR"
      ],
      "metadata": {
        "colab": {
          "base_uri": "https://localhost:8080/",
          "height": 75
        },
        "id": "-TNwRITVV2yh",
        "outputId": "ed0a33fe-7aea-4634-be88-5fae0bf2937e"
      },
      "execution_count": 261,
      "outputs": [
        {
          "output_type": "execute_result",
          "data": {
            "text/plain": [
              "LogisticRegression(C=0.01, solver='liblinear')"
            ],
            "text/html": [
              "<style>#sk-container-id-11 {color: black;background-color: white;}#sk-container-id-11 pre{padding: 0;}#sk-container-id-11 div.sk-toggleable {background-color: white;}#sk-container-id-11 label.sk-toggleable__label {cursor: pointer;display: block;width: 100%;margin-bottom: 0;padding: 0.3em;box-sizing: border-box;text-align: center;}#sk-container-id-11 label.sk-toggleable__label-arrow:before {content: \"▸\";float: left;margin-right: 0.25em;color: #696969;}#sk-container-id-11 label.sk-toggleable__label-arrow:hover:before {color: black;}#sk-container-id-11 div.sk-estimator:hover label.sk-toggleable__label-arrow:before {color: black;}#sk-container-id-11 div.sk-toggleable__content {max-height: 0;max-width: 0;overflow: hidden;text-align: left;background-color: #f0f8ff;}#sk-container-id-11 div.sk-toggleable__content pre {margin: 0.2em;color: black;border-radius: 0.25em;background-color: #f0f8ff;}#sk-container-id-11 input.sk-toggleable__control:checked~div.sk-toggleable__content {max-height: 200px;max-width: 100%;overflow: auto;}#sk-container-id-11 input.sk-toggleable__control:checked~label.sk-toggleable__label-arrow:before {content: \"▾\";}#sk-container-id-11 div.sk-estimator input.sk-toggleable__control:checked~label.sk-toggleable__label {background-color: #d4ebff;}#sk-container-id-11 div.sk-label input.sk-toggleable__control:checked~label.sk-toggleable__label {background-color: #d4ebff;}#sk-container-id-11 input.sk-hidden--visually {border: 0;clip: rect(1px 1px 1px 1px);clip: rect(1px, 1px, 1px, 1px);height: 1px;margin: -1px;overflow: hidden;padding: 0;position: absolute;width: 1px;}#sk-container-id-11 div.sk-estimator {font-family: monospace;background-color: #f0f8ff;border: 1px dotted black;border-radius: 0.25em;box-sizing: border-box;margin-bottom: 0.5em;}#sk-container-id-11 div.sk-estimator:hover {background-color: #d4ebff;}#sk-container-id-11 div.sk-parallel-item::after {content: \"\";width: 100%;border-bottom: 1px solid gray;flex-grow: 1;}#sk-container-id-11 div.sk-label:hover label.sk-toggleable__label {background-color: #d4ebff;}#sk-container-id-11 div.sk-serial::before {content: \"\";position: absolute;border-left: 1px solid gray;box-sizing: border-box;top: 0;bottom: 0;left: 50%;z-index: 0;}#sk-container-id-11 div.sk-serial {display: flex;flex-direction: column;align-items: center;background-color: white;padding-right: 0.2em;padding-left: 0.2em;position: relative;}#sk-container-id-11 div.sk-item {position: relative;z-index: 1;}#sk-container-id-11 div.sk-parallel {display: flex;align-items: stretch;justify-content: center;background-color: white;position: relative;}#sk-container-id-11 div.sk-item::before, #sk-container-id-11 div.sk-parallel-item::before {content: \"\";position: absolute;border-left: 1px solid gray;box-sizing: border-box;top: 0;bottom: 0;left: 50%;z-index: -1;}#sk-container-id-11 div.sk-parallel-item {display: flex;flex-direction: column;z-index: 1;position: relative;background-color: white;}#sk-container-id-11 div.sk-parallel-item:first-child::after {align-self: flex-end;width: 50%;}#sk-container-id-11 div.sk-parallel-item:last-child::after {align-self: flex-start;width: 50%;}#sk-container-id-11 div.sk-parallel-item:only-child::after {width: 0;}#sk-container-id-11 div.sk-dashed-wrapped {border: 1px dashed gray;margin: 0 0.4em 0.5em 0.4em;box-sizing: border-box;padding-bottom: 0.4em;background-color: white;}#sk-container-id-11 div.sk-label label {font-family: monospace;font-weight: bold;display: inline-block;line-height: 1.2em;}#sk-container-id-11 div.sk-label-container {text-align: center;}#sk-container-id-11 div.sk-container {/* jupyter's `normalize.less` sets `[hidden] { display: none; }` but bootstrap.min.css set `[hidden] { display: none !important; }` so we also need the `!important` here to be able to override the default hidden behavior on the sphinx rendered scikit-learn.org. See: https://github.com/scikit-learn/scikit-learn/issues/21755 */display: inline-block !important;position: relative;}#sk-container-id-11 div.sk-text-repr-fallback {display: none;}</style><div id=\"sk-container-id-11\" class=\"sk-top-container\"><div class=\"sk-text-repr-fallback\"><pre>LogisticRegression(C=0.01, solver=&#x27;liblinear&#x27;)</pre><b>In a Jupyter environment, please rerun this cell to show the HTML representation or trust the notebook. <br />On GitHub, the HTML representation is unable to render, please try loading this page with nbviewer.org.</b></div><div class=\"sk-container\" hidden><div class=\"sk-item\"><div class=\"sk-estimator sk-toggleable\"><input class=\"sk-toggleable__control sk-hidden--visually\" id=\"sk-estimator-id-11\" type=\"checkbox\" checked><label for=\"sk-estimator-id-11\" class=\"sk-toggleable__label sk-toggleable__label-arrow\">LogisticRegression</label><div class=\"sk-toggleable__content\"><pre>LogisticRegression(C=0.01, solver=&#x27;liblinear&#x27;)</pre></div></div></div></div></div>"
            ]
          },
          "metadata": {},
          "execution_count": 261
        }
      ]
    },
    {
      "cell_type": "code",
      "source": [
        "yhat = LR.predict(X_test)\n",
        "yhat"
      ],
      "metadata": {
        "colab": {
          "base_uri": "https://localhost:8080/"
        },
        "id": "7Z5gseJfWVH1",
        "outputId": "b7ac134c-893a-44ae-e6c8-863d71e66805"
      },
      "execution_count": 262,
      "outputs": [
        {
          "output_type": "execute_result",
          "data": {
            "text/plain": [
              "array([0, 0, 0, ..., 0, 0, 0])"
            ]
          },
          "metadata": {},
          "execution_count": 262
        }
      ]
    },
    {
      "cell_type": "markdown",
      "source": [
        "# Evaluating the ML model: \n",
        "\n",
        "## jaccard index\n",
        "#### The Jaccard index is a value between 0 and 1, with 1 indicating perfect overlap between the predicted positive instances and the true positive instances. A Jaccard index of 0 indicates no overlap between the predicted positive instances and the true positive instances.\n",
        "\n",
        "####The Jaccard index can be used as an evaluation metric for logistic regression models, particularly in cases where the positive class is rare or imbalanced. A higher Jaccard index indicates better performance of the model in correctly identifying positive instances."
      ],
      "metadata": {
        "id": "LgZ2tZgdK6GH"
      }
    },
    {
      "cell_type": "code",
      "source": [
        "from sklearn.metrics import jaccard_score\n",
        "jaccard_score(y_test, yhat,pos_label=0)"
      ],
      "metadata": {
        "colab": {
          "base_uri": "https://localhost:8080/"
        },
        "id": "NRyuBrNVXMaw",
        "outputId": "6bd09921-7895-41f3-c014-1fe18f440587"
      },
      "execution_count": 263,
      "outputs": [
        {
          "output_type": "execute_result",
          "data": {
            "text/plain": [
              "0.8972559029993619"
            ]
          },
          "metadata": {},
          "execution_count": 263
        }
      ]
    },
    {
      "cell_type": "markdown",
      "source": [
        "##Log loss:\n",
        "### In logistic regression, the model predicts the probability of an instance belonging to the positive class (usually labeled as 1) using a sigmoid function. The predicted probability is compared with the true binary label (1 or 0), and the log loss is calculated as the negative log-likelihood of the true label given the predicted probability."
      ],
      "metadata": {
        "id": "3LRN-CjnXwvo"
      }
    },
    {
      "cell_type": "code",
      "source": [
        "from sklearn.metrics import log_loss\n",
        "yhat_prob = LR.predict_proba(X_test)\n",
        "log_loss(y_test, yhat_prob)"
      ],
      "metadata": {
        "colab": {
          "base_uri": "https://localhost:8080/"
        },
        "id": "LhD9fidtbY5M",
        "outputId": "5ec67560-c99a-46a2-888a-4fdfb77c8f2e"
      },
      "execution_count": 264,
      "outputs": [
        {
          "output_type": "execute_result",
          "data": {
            "text/plain": [
              "0.26038673012569985"
            ]
          },
          "metadata": {},
          "execution_count": 264
        }
      ]
    },
    {
      "cell_type": "markdown",
      "source": [
        "##The intercept and coefficients are the parameters of the logistic regression equation, which can be used to calculate the predicted log odds of the target variable. The predicted probabilities are calculated by applying the logistic function to the predicted log odds."
      ],
      "metadata": {
        "id": "kI-oV5l9p8Li"
      }
    },
    {
      "cell_type": "code",
      "source": [
        "# intercept and coefficients\n",
        "print(\"Intercept:\", LR.intercept_)\n",
        "print(\"Coefficients:\", LR.coef_)\n",
        "\n",
        "# predicted probabilities for the test set\n",
        "yhat_prob = LR.predict_proba(X_test)\n",
        "print(\"Predicted Probabilities:\", yhat_prob)"
      ],
      "metadata": {
        "colab": {
          "base_uri": "https://localhost:8080/"
        },
        "id": "p_4OsRInoz7N",
        "outputId": "dd1a1124-bd29-4c9c-e827-4b1517ad843a"
      },
      "execution_count": 265,
      "outputs": [
        {
          "output_type": "stream",
          "name": "stdout",
          "text": [
            "Intercept: [-2.1]\n",
            "Coefficients: [[ 0.61 -0.13 -0.43  0.06 -0.43  0.3   0.22 -0.12  0.03  0.09 -0.24 -0.06\n",
            "  -0.14 -0.07 -0.05 -0.23 -0.06 -0.05 -0.12 -0.23]]\n",
            "Predicted Probabilities: [[0.75 0.25]\n",
            " [0.89 0.11]\n",
            " [0.96 0.04]\n",
            " ...\n",
            " [0.82 0.18]\n",
            " [0.9  0.1 ]\n",
            " [0.87 0.13]]\n"
          ]
        }
      ]
    },
    {
      "cell_type": "markdown",
      "source": [
        "##The ROC curve plots the true positive rate (TPR) on the y-axis against the false positive rate (FPR) on the x-axis for different threshold values. The AUC score is a measure of the area under the ROC curve, with a perfect classifier having an AUC score of 1."
      ],
      "metadata": {
        "id": "4K7pfe2EppHm"
      }
    },
    {
      "cell_type": "code",
      "source": [
        "from sklearn.metrics import roc_curve, roc_auc_score\n",
        "\n",
        "# compute the false positive rate, true positive rate, and thresholds\n",
        "fpr, tpr, thresholds = roc_curve(y_test, yhat_prob[:, 1], pos_label=1)\n",
        "\n",
        "# plot the ROC curve\n",
        "plt.plot(fpr, tpr)\n",
        "plt.title(\"ROC Curve\")\n",
        "plt.xlabel(\"False Positive Rate\")\n",
        "plt.ylabel(\"True Positive Rate\")\n",
        "plt.show()\n",
        "\n",
        "# compute the area under the ROC curve\n",
        "auc_score = roc_auc_score(y_test, yhat_prob[:, 1])\n",
        "print(\"AUC Score:\", auc_score)\n"
      ],
      "metadata": {
        "colab": {
          "base_uri": "https://localhost:8080/",
          "height": 489
        },
        "id": "wSa1ofXspIqe",
        "outputId": "d37ff507-4271-4ceb-8efd-2b5c8bbe56d0"
      },
      "execution_count": 266,
      "outputs": [
        {
          "output_type": "display_data",
          "data": {
            "text/plain": [
              "<Figure size 640x480 with 1 Axes>"
            ],
            "image/png": "[encoded data removed]"
          },
          "metadata": {}
        },
        {
          "output_type": "stream",
          "name": "stdout",
          "text": [
            "AUC Score: 0.8719722911318255\n"
          ]
        }
      ]
    },
    {
      "cell_type": "markdown",
      "source": [
        "#Confusion Matrix:\n"
      ],
      "metadata": {
        "id": "SPfWAjjWYQAH"
      }
    },
    {
      "cell_type": "code",
      "source": [
        "from sklearn.metrics import classification_report, confusion_matrix\n",
        "import itertools\n",
        "def plot_confusion_matrix(cm, classes,\n",
        "                          normalize=False,\n",
        "                          title='Confusion matrix',\n",
        "                          cmap=plt.cm.Blues):\n",
        "    \"\"\"\n",
        "    This function prints and plots the confusion matrix.\n",
        "    Normalization can be applied by setting `normalize=True`.\n",
        "    \"\"\"\n",
        "    if normalize:\n",
        "        cm = cm.astype('float') / cm.sum(axis=1)[:, np.newaxis]\n",
        "        print(\"Normalized confusion matrix\")\n",
        "    else:\n",
        "        print('Confusion matrix, without normalization')\n",
        "\n",
        "    print(cm)\n",
        "\n",
        "    plt.imshow(cm, interpolation='nearest', cmap=cmap)\n",
        "    plt.title(title)\n",
        "    plt.colorbar()\n",
        "    tick_marks = np.arange(len(classes))\n",
        "    plt.xticks(tick_marks, classes, rotation=45)\n",
        "    plt.yticks(tick_marks, classes)\n",
        "\n",
        "    fmt = '.2f' if normalize else 'd'\n",
        "    thresh = cm.max() / 2.\n",
        "    for i, j in itertools.product(range(cm.shape[0]), range(cm.shape[1])):\n",
        "        plt.text(j, i, format(cm[i, j], fmt),\n",
        "                 horizontalalignment=\"center\",\n",
        "                 color=\"white\" if cm[i, j] > thresh else \"black\")\n",
        "\n",
        "    plt.tight_layout()\n",
        "    plt.ylabel('True label')\n",
        "    plt.xlabel('Predicted label')\n",
        "print(confusion_matrix(y_test, yhat, labels=[1,0]))"
      ],
      "metadata": {
        "colab": {
          "base_uri": "https://localhost:8080/"
        },
        "id": "awNj6bFAXveR",
        "outputId": "2dd7e9f5-a6a4-4620-a42d-5c10418ca4c8"
      },
      "execution_count": 267,
      "outputs": [
        {
          "output_type": "stream",
          "name": "stdout",
          "text": [
            "[[  33  146]\n",
            " [  15 1406]]\n"
          ]
        }
      ]
    },
    {
      "cell_type": "code",
      "source": [
        "# Compute confusion matrix\n",
        "cnf_matrix = confusion_matrix(y_test, yhat, labels=[1,0])\n",
        "np.set_printoptions(precision=2)\n",
        "\n",
        "\n",
        "# Plot non-normalized confusion matrix\n",
        "plt.figure()\n",
        "plot_confusion_matrix(cnf_matrix, classes=['is_safe=1','is_safe=0'],normalize= False,  title='Confusion matrix')"
      ],
      "metadata": {
        "colab": {
          "base_uri": "https://localhost:8080/",
          "height": 558
        },
        "id": "t_SHmv_dSKU4",
        "outputId": "f8072dcd-d4ba-4f04-8177-700fd97b338f"
      },
      "execution_count": 268,
      "outputs": [
        {
          "output_type": "stream",
          "name": "stdout",
          "text": [
            "Confusion matrix, without normalization\n",
            "[[  33  146]\n",
            " [  15 1406]]\n"
          ]
        },
        {
          "output_type": "display_data",
          "data": {
            "text/plain": [
              "<Figure size 640x480 with 2 Axes>"
            ],
            "image/png": "[encoded data removed]"
          },
          "metadata": {}
        }
      ]
    },
    {
      "cell_type": "markdown",
      "source": [
        "##Calculating precision & recall:"
      ],
      "metadata": {
        "id": "N-x-nvEqZKWa"
      }
    },
    {
      "cell_type": "code",
      "source": [
        "print (classification_report(y_test, yhat))\n"
      ],
      "metadata": {
        "colab": {
          "base_uri": "https://localhost:8080/"
        },
        "id": "aPuJrjuWS3ad",
        "outputId": "e09accaf-5714-4143-fc7b-b5c8384ce3bb"
      },
      "execution_count": 269,
      "outputs": [
        {
          "output_type": "stream",
          "name": "stdout",
          "text": [
            "              precision    recall  f1-score   support\n",
            "\n",
            "           0       0.91      0.99      0.95      1421\n",
            "           1       0.69      0.18      0.29       179\n",
            "\n",
            "    accuracy                           0.90      1600\n",
            "   macro avg       0.80      0.59      0.62      1600\n",
            "weighted avg       0.88      0.90      0.87      1600\n",
            "\n"
          ]
        }
      ]
    },
    {
      "cell_type": "markdown",
      "source": [
        "#Feature Importance Plot:\n"
      ],
      "metadata": {
        "id": "0YNeWTERZjlJ"
      }
    },
    {
      "cell_type": "code",
      "source": [
        "# Get the coefficients from the logistic regression model\n",
        "coef = LR.coef_.ravel()\n",
        "\n",
        "# Create a list of feature names\n",
        "features = ['aluminium', 'ammonia', 'arsenic', 'barium', 'cadmium', 'chloramine', 'chromium', 'copper', 'flouride', 'bacteria', 'viruses', 'lead', 'nitrates', 'nitrites', 'mercury', 'perchlorate', 'radium', 'selenium', 'silver', 'uranium']\n",
        "\n",
        "# Create a dictionary of coefficients and feature names\n",
        "coef_dict = dict(zip(features, coef))\n",
        "\n",
        "# Sort the dictionary by coefficient value\n",
        "sorted_coef_dict = dict(sorted(coef_dict.items(), key=lambda x: abs(x[1]), reverse=True))\n",
        "\n",
        "# Plot the coefficients\n",
        "plt.figure(figsize=(15, 10))\n",
        "plt.bar(range(len(sorted_coef_dict)), list(sorted_coef_dict.values()))\n",
        "plt.xticks(range(len(sorted_coef_dict)), list(sorted_coef_dict.keys()), rotation='vertical')\n",
        "plt.ylabel('Coefficient')\n",
        "plt.title('Feature Importance')\n",
        "plt.show()\n",
        "\n",
        "\n",
        "\n"
      ],
      "metadata": {
        "colab": {
          "base_uri": "https://localhost:8080/",
          "height": 919
        },
        "id": "JcYWucYdzymO",
        "outputId": "17331399-6377-41ac-fb46-a4442b52a024"
      },
      "execution_count": 270,
      "outputs": [
        {
          "output_type": "display_data",
          "data": {
            "text/plain": [
              "<Figure size 1500x1000 with 1 Axes>"
            ],
            "image/png": "[encoded data removed]"
          },
          "metadata": {}
        }
      ]
    }
  ]
}